{
  "nbformat": 4,
  "nbformat_minor": 0,
  "metadata": {
    "colab": {
      "name": "Practica1_2.ipynb",
      "provenance": [],
      "authorship_tag": "ABX9TyPPwElJW9VOwYmh1ZMCRhr4",
      "include_colab_link": true
    },
    "kernelspec": {
      "name": "python3",
      "display_name": "Python 3"
    }
  },
  "cells": [
    {
      "cell_type": "markdown",
      "metadata": {
        "id": "view-in-github",
        "colab_type": "text"
      },
      "source": [
        "<a href=\"https://colab.research.google.com/github/JOSSORMORA26/PRACTICA/blob/master/Practica1_2.ipynb\" target=\"_parent\"><img src=\"https://colab.research.google.com/assets/colab-badge.svg\" alt=\"Open In Colab\"/></a>"
      ]
    },
    {
      "cell_type": "code",
      "metadata": {
        "id": "njHEoC-f0L7t",
        "colab_type": "code",
        "colab": {}
      },
      "source": [
        ""
      ],
      "execution_count": 0,
      "outputs": []
    },
    {
      "cell_type": "code",
      "metadata": {
        "id": "wEQgOAOXjKV7",
        "colab_type": "code",
        "outputId": "1faf00c1-c6ea-42fd-b931-7cd3dd5082f2",
        "colab": {
          "base_uri": "https://localhost:8080/",
          "height": 34
        }
      },
      "source": [
        "print(\"¡Hola mundo!\")"
      ],
      "execution_count": 0,
      "outputs": [
        {
          "output_type": "stream",
          "text": [
            "¡Hola mundo!\n"
          ],
          "name": "stdout"
        }
      ]
    },
    {
      "cell_type": "code",
      "metadata": {
        "id": "nVxPPDieKHw8",
        "colab_type": "code",
        "colab": {}
      },
      "source": [
        ""
      ],
      "execution_count": 0,
      "outputs": []
    },
    {
      "cell_type": "markdown",
      "metadata": {
        "id": "_JPW612pKIse",
        "colab_type": "text"
      },
      "source": [
        ""
      ]
    },
    {
      "cell_type": "markdown",
      "metadata": {
        "id": "3xCc1Q6oKIvq",
        "colab_type": "text"
      },
      "source": [
        ""
      ]
    },
    {
      "cell_type": "code",
      "metadata": {
        "id": "8b-jUScrkZ0q",
        "colab_type": "code",
        "colab": {}
      },
      "source": [
        "\n",
        "import pandas as pd\n",
        "import numpy as np\n",
        "import missingno as msno\n",
        "%matplotlib inline"
      ],
      "execution_count": 0,
      "outputs": []
    },
    {
      "cell_type": "code",
      "metadata": {
        "id": "UrxVImT2k0vT",
        "colab_type": "code",
        "outputId": "b71c62a6-97f9-40f6-e7b4-bcb732a69430",
        "colab": {
          "base_uri": "https://localhost:8080/",
          "height": 204
        }
      },
      "source": [
        "path = 'WorldCupPlayers_3.csv'\n",
        "df = pd.read_csv(path, encoding='latin', error_bad_lines=False)\n",
        "df.head()"
      ],
      "execution_count": 36,
      "outputs": [
        {
          "output_type": "execute_result",
          "data": {
            "text/html": [
              "<div>\n",
              "<style scoped>\n",
              "    .dataframe tbody tr th:only-of-type {\n",
              "        vertical-align: middle;\n",
              "    }\n",
              "\n",
              "    .dataframe tbody tr th {\n",
              "        vertical-align: top;\n",
              "    }\n",
              "\n",
              "    .dataframe thead th {\n",
              "        text-align: right;\n",
              "    }\n",
              "</style>\n",
              "<table border=\"1\" class=\"dataframe\">\n",
              "  <thead>\n",
              "    <tr style=\"text-align: right;\">\n",
              "      <th></th>\n",
              "      <th>RoundID</th>\n",
              "      <th>MatchID</th>\n",
              "      <th>Team Initials</th>\n",
              "      <th>Coach Name</th>\n",
              "      <th>Line-up</th>\n",
              "      <th>Shirt Number</th>\n",
              "      <th>Player Name</th>\n",
              "      <th>Position</th>\n",
              "      <th>Event</th>\n",
              "    </tr>\n",
              "  </thead>\n",
              "  <tbody>\n",
              "    <tr>\n",
              "      <th>0</th>\n",
              "      <td>201</td>\n",
              "      <td>1096</td>\n",
              "      <td>FRA</td>\n",
              "      <td>CAUDRON Raoul (FRA)</td>\n",
              "      <td>1</td>\n",
              "      <td>0</td>\n",
              "      <td>Alex THEPOT</td>\n",
              "      <td>GK</td>\n",
              "      <td>NaN</td>\n",
              "    </tr>\n",
              "    <tr>\n",
              "      <th>1</th>\n",
              "      <td>201</td>\n",
              "      <td>1096</td>\n",
              "      <td>MEX</td>\n",
              "      <td>LUQUE Juan (MEX)</td>\n",
              "      <td>1</td>\n",
              "      <td>0</td>\n",
              "      <td>Oscar BONFIGLIO</td>\n",
              "      <td>GK</td>\n",
              "      <td>NaN</td>\n",
              "    </tr>\n",
              "    <tr>\n",
              "      <th>2</th>\n",
              "      <td>201</td>\n",
              "      <td>1096</td>\n",
              "      <td>FRA</td>\n",
              "      <td>CAUDRON Raoul (FRA)</td>\n",
              "      <td>1</td>\n",
              "      <td>0</td>\n",
              "      <td>Marcel LANGILLER</td>\n",
              "      <td>NaN</td>\n",
              "      <td>G40'</td>\n",
              "    </tr>\n",
              "    <tr>\n",
              "      <th>3</th>\n",
              "      <td>201</td>\n",
              "      <td>1096</td>\n",
              "      <td>MEX</td>\n",
              "      <td>LUQUE Juan (MEX)</td>\n",
              "      <td>1</td>\n",
              "      <td>0</td>\n",
              "      <td>Juan CARRENO</td>\n",
              "      <td>NaN</td>\n",
              "      <td>G70'</td>\n",
              "    </tr>\n",
              "    <tr>\n",
              "      <th>4</th>\n",
              "      <td>201</td>\n",
              "      <td>1096</td>\n",
              "      <td>FRA</td>\n",
              "      <td>CAUDRON Raoul (FRA)</td>\n",
              "      <td>1</td>\n",
              "      <td>0</td>\n",
              "      <td>Ernest LIBERATI</td>\n",
              "      <td>NaN</td>\n",
              "      <td>NaN</td>\n",
              "    </tr>\n",
              "  </tbody>\n",
              "</table>\n",
              "</div>"
            ],
            "text/plain": [
              "   RoundID  MatchID Team Initials  ...       Player Name  Position  Event\n",
              "0      201     1096           FRA  ...       Alex THEPOT        GK    NaN\n",
              "1      201     1096           MEX  ...   Oscar BONFIGLIO        GK    NaN\n",
              "2      201     1096           FRA  ...  Marcel LANGILLER       NaN   G40'\n",
              "3      201     1096           MEX  ...      Juan CARRENO       NaN   G70'\n",
              "4      201     1096           FRA  ...   Ernest LIBERATI       NaN    NaN\n",
              "\n",
              "[5 rows x 9 columns]"
            ]
          },
          "metadata": {
            "tags": []
          },
          "execution_count": 36
        }
      ]
    },
    {
      "cell_type": "code",
      "metadata": {
        "id": "dSW0meZmnFqm",
        "colab_type": "code",
        "outputId": "84a6a08d-8252-449f-94f5-3be029f0e8e8",
        "colab": {
          "base_uri": "https://localhost:8080/",
          "height": 1000
        }
      },
      "source": [
        "df.loc[30:80]"
      ],
      "execution_count": 37,
      "outputs": [
        {
          "output_type": "execute_result",
          "data": {
            "text/html": [
              "<div>\n",
              "<style scoped>\n",
              "    .dataframe tbody tr th:only-of-type {\n",
              "        vertical-align: middle;\n",
              "    }\n",
              "\n",
              "    .dataframe tbody tr th {\n",
              "        vertical-align: top;\n",
              "    }\n",
              "\n",
              "    .dataframe thead th {\n",
              "        text-align: right;\n",
              "    }\n",
              "</style>\n",
              "<table border=\"1\" class=\"dataframe\">\n",
              "  <thead>\n",
              "    <tr style=\"text-align: right;\">\n",
              "      <th></th>\n",
              "      <th>RoundID</th>\n",
              "      <th>MatchID</th>\n",
              "      <th>Team Initials</th>\n",
              "      <th>Coach Name</th>\n",
              "      <th>Line-up</th>\n",
              "      <th>Shirt Number</th>\n",
              "      <th>Player Name</th>\n",
              "      <th>Position</th>\n",
              "      <th>Event</th>\n",
              "    </tr>\n",
              "  </thead>\n",
              "  <tbody>\n",
              "    <tr>\n",
              "      <th>30</th>\n",
              "      <td>201</td>\n",
              "      <td>1096</td>\n",
              "      <td>FRA</td>\n",
              "      <td>CAUDRON Raoul (FRA)</td>\n",
              "      <td>0</td>\n",
              "      <td>0</td>\n",
              "      <td>Emile VEINANTE</td>\n",
              "      <td>NaN</td>\n",
              "      <td>NaN</td>\n",
              "    </tr>\n",
              "    <tr>\n",
              "      <th>31</th>\n",
              "      <td>201</td>\n",
              "      <td>1096</td>\n",
              "      <td>MEX</td>\n",
              "      <td>LUQUE Juan (MEX)</td>\n",
              "      <td>0</td>\n",
              "      <td>0</td>\n",
              "      <td>Roberto GAYON</td>\n",
              "      <td>NaN</td>\n",
              "      <td>NaN</td>\n",
              "    </tr>\n",
              "    <tr>\n",
              "      <th>32</th>\n",
              "      <td>201</td>\n",
              "      <td>1096</td>\n",
              "      <td>MEX</td>\n",
              "      <td>LUQUE Juan (MEX)</td>\n",
              "      <td>0</td>\n",
              "      <td>0</td>\n",
              "      <td>Francisco GARZA GUTIERREZ</td>\n",
              "      <td>NaN</td>\n",
              "      <td>NaN</td>\n",
              "    </tr>\n",
              "    <tr>\n",
              "      <th>33</th>\n",
              "      <td>201</td>\n",
              "      <td>1090</td>\n",
              "      <td>USA</td>\n",
              "      <td>MILLAR Bob (USA)</td>\n",
              "      <td>1</td>\n",
              "      <td>0</td>\n",
              "      <td>Jimmy DOUGLAS</td>\n",
              "      <td>GK</td>\n",
              "      <td>NaN</td>\n",
              "    </tr>\n",
              "    <tr>\n",
              "      <th>34</th>\n",
              "      <td>201</td>\n",
              "      <td>1090</td>\n",
              "      <td>BEL</td>\n",
              "      <td>GOETINCK Hector (BEL)</td>\n",
              "      <td>1</td>\n",
              "      <td>0</td>\n",
              "      <td>Arnold BADJOU</td>\n",
              "      <td>GK</td>\n",
              "      <td>NaN</td>\n",
              "    </tr>\n",
              "    <tr>\n",
              "      <th>35</th>\n",
              "      <td>201</td>\n",
              "      <td>1090</td>\n",
              "      <td>USA</td>\n",
              "      <td>MILLAR Bob (USA)</td>\n",
              "      <td>1</td>\n",
              "      <td>0</td>\n",
              "      <td>Tom FLORIE</td>\n",
              "      <td>C</td>\n",
              "      <td>G45'</td>\n",
              "    </tr>\n",
              "    <tr>\n",
              "      <th>36</th>\n",
              "      <td>201</td>\n",
              "      <td>1090</td>\n",
              "      <td>BEL</td>\n",
              "      <td>GOETINCK Hector (BEL)</td>\n",
              "      <td>1</td>\n",
              "      <td>0</td>\n",
              "      <td>Jean DE CLERQ</td>\n",
              "      <td>NaN</td>\n",
              "      <td>NaN</td>\n",
              "    </tr>\n",
              "    <tr>\n",
              "      <th>37</th>\n",
              "      <td>201</td>\n",
              "      <td>1090</td>\n",
              "      <td>USA</td>\n",
              "      <td>MILLAR Bob (USA)</td>\n",
              "      <td>1</td>\n",
              "      <td>0</td>\n",
              "      <td>Jimmy GALLAGHER</td>\n",
              "      <td>NaN</td>\n",
              "      <td>NaN</td>\n",
              "    </tr>\n",
              "    <tr>\n",
              "      <th>38</th>\n",
              "      <td>201</td>\n",
              "      <td>1090</td>\n",
              "      <td>BEL</td>\n",
              "      <td>GOETINCK Hector (BEL)</td>\n",
              "      <td>1</td>\n",
              "      <td>0</td>\n",
              "      <td>Jan DIDDENS</td>\n",
              "      <td>NaN</td>\n",
              "      <td>NaN</td>\n",
              "    </tr>\n",
              "    <tr>\n",
              "      <th>39</th>\n",
              "      <td>201</td>\n",
              "      <td>1090</td>\n",
              "      <td>USA</td>\n",
              "      <td>MILLAR Bob (USA)</td>\n",
              "      <td>1</td>\n",
              "      <td>0</td>\n",
              "      <td>Billy GONSALVES</td>\n",
              "      <td>NaN</td>\n",
              "      <td>NaN</td>\n",
              "    </tr>\n",
              "    <tr>\n",
              "      <th>40</th>\n",
              "      <td>201</td>\n",
              "      <td>1090</td>\n",
              "      <td>BEL</td>\n",
              "      <td>GOETINCK Hector (BEL)</td>\n",
              "      <td>1</td>\n",
              "      <td>0</td>\n",
              "      <td>Auguste HELLEMANS</td>\n",
              "      <td>NaN</td>\n",
              "      <td>NaN</td>\n",
              "    </tr>\n",
              "    <tr>\n",
              "      <th>41</th>\n",
              "      <td>201</td>\n",
              "      <td>1090</td>\n",
              "      <td>USA</td>\n",
              "      <td>MILLAR Bob (USA)</td>\n",
              "      <td>1</td>\n",
              "      <td>0</td>\n",
              "      <td>Bart McGHEE</td>\n",
              "      <td>NaN</td>\n",
              "      <td>G23'</td>\n",
              "    </tr>\n",
              "    <tr>\n",
              "      <th>42</th>\n",
              "      <td>201</td>\n",
              "      <td>1090</td>\n",
              "      <td>BEL</td>\n",
              "      <td>GOETINCK Hector (BEL)</td>\n",
              "      <td>1</td>\n",
              "      <td>0</td>\n",
              "      <td>Nikolaas HOYDONCKX</td>\n",
              "      <td>NaN</td>\n",
              "      <td>NaN</td>\n",
              "    </tr>\n",
              "    <tr>\n",
              "      <th>43</th>\n",
              "      <td>201</td>\n",
              "      <td>1090</td>\n",
              "      <td>USA</td>\n",
              "      <td>MILLAR Bob (USA)</td>\n",
              "      <td>1</td>\n",
              "      <td>0</td>\n",
              "      <td>George MOORHOUSE</td>\n",
              "      <td>NaN</td>\n",
              "      <td>NaN</td>\n",
              "    </tr>\n",
              "    <tr>\n",
              "      <th>44</th>\n",
              "      <td>201</td>\n",
              "      <td>1090</td>\n",
              "      <td>BEL</td>\n",
              "      <td>GOETINCK Hector (BEL)</td>\n",
              "      <td>1</td>\n",
              "      <td>0</td>\n",
              "      <td>Jacques MOESCHAL</td>\n",
              "      <td>NaN</td>\n",
              "      <td>NaN</td>\n",
              "    </tr>\n",
              "    <tr>\n",
              "      <th>45</th>\n",
              "      <td>201</td>\n",
              "      <td>1090</td>\n",
              "      <td>USA</td>\n",
              "      <td>MILLAR Bob (USA)</td>\n",
              "      <td>1</td>\n",
              "      <td>0</td>\n",
              "      <td>Bert PATENAUDE</td>\n",
              "      <td>NaN</td>\n",
              "      <td>G69'</td>\n",
              "    </tr>\n",
              "    <tr>\n",
              "      <th>46</th>\n",
              "      <td>201</td>\n",
              "      <td>1090</td>\n",
              "      <td>BEL</td>\n",
              "      <td>GOETINCK Hector (BEL)</td>\n",
              "      <td>1</td>\n",
              "      <td>0</td>\n",
              "      <td>Theodore NOUWENS</td>\n",
              "      <td>NaN</td>\n",
              "      <td>NaN</td>\n",
              "    </tr>\n",
              "    <tr>\n",
              "      <th>47</th>\n",
              "      <td>201</td>\n",
              "      <td>1090</td>\n",
              "      <td>USA</td>\n",
              "      <td>MILLAR Bob (USA)</td>\n",
              "      <td>1</td>\n",
              "      <td>0</td>\n",
              "      <td>Ralph TRACY</td>\n",
              "      <td>NaN</td>\n",
              "      <td>NaN</td>\n",
              "    </tr>\n",
              "    <tr>\n",
              "      <th>48</th>\n",
              "      <td>201</td>\n",
              "      <td>1090</td>\n",
              "      <td>BEL</td>\n",
              "      <td>GOETINCK Hector (BEL)</td>\n",
              "      <td>1</td>\n",
              "      <td>0</td>\n",
              "      <td>Fernand ADAMS</td>\n",
              "      <td>NaN</td>\n",
              "      <td>NaN</td>\n",
              "    </tr>\n",
              "    <tr>\n",
              "      <th>49</th>\n",
              "      <td>201</td>\n",
              "      <td>1090</td>\n",
              "      <td>USA</td>\n",
              "      <td>MILLAR Bob (USA)</td>\n",
              "      <td>1</td>\n",
              "      <td>0</td>\n",
              "      <td>Alexander WOOD</td>\n",
              "      <td>NaN</td>\n",
              "      <td>NaN</td>\n",
              "    </tr>\n",
              "    <tr>\n",
              "      <th>50</th>\n",
              "      <td>201</td>\n",
              "      <td>1090</td>\n",
              "      <td>BEL</td>\n",
              "      <td>GOETINCK Hector (BEL)</td>\n",
              "      <td>1</td>\n",
              "      <td>0</td>\n",
              "      <td>Louis VERSYP</td>\n",
              "      <td>NaN</td>\n",
              "      <td>NaN</td>\n",
              "    </tr>\n",
              "    <tr>\n",
              "      <th>51</th>\n",
              "      <td>201</td>\n",
              "      <td>1090</td>\n",
              "      <td>USA</td>\n",
              "      <td>MILLAR Bob (USA)</td>\n",
              "      <td>1</td>\n",
              "      <td>0</td>\n",
              "      <td>Andrew AULD</td>\n",
              "      <td>NaN</td>\n",
              "      <td>NaN</td>\n",
              "    </tr>\n",
              "    <tr>\n",
              "      <th>52</th>\n",
              "      <td>201</td>\n",
              "      <td>1090</td>\n",
              "      <td>BEL</td>\n",
              "      <td>GOETINCK Hector (BEL)</td>\n",
              "      <td>1</td>\n",
              "      <td>0</td>\n",
              "      <td>Bernard VOORHOOF</td>\n",
              "      <td>NaN</td>\n",
              "      <td>NaN</td>\n",
              "    </tr>\n",
              "    <tr>\n",
              "      <th>53</th>\n",
              "      <td>201</td>\n",
              "      <td>1090</td>\n",
              "      <td>USA</td>\n",
              "      <td>MILLAR Bob (USA)</td>\n",
              "      <td>1</td>\n",
              "      <td>0</td>\n",
              "      <td>Jim BROWN</td>\n",
              "      <td>NaN</td>\n",
              "      <td>NaN</td>\n",
              "    </tr>\n",
              "    <tr>\n",
              "      <th>54</th>\n",
              "      <td>201</td>\n",
              "      <td>1090</td>\n",
              "      <td>BEL</td>\n",
              "      <td>GOETINCK Hector (BEL)</td>\n",
              "      <td>1</td>\n",
              "      <td>0</td>\n",
              "      <td>Pierre BRAINE</td>\n",
              "      <td>C</td>\n",
              "      <td>NaN</td>\n",
              "    </tr>\n",
              "    <tr>\n",
              "      <th>55</th>\n",
              "      <td>201</td>\n",
              "      <td>1090</td>\n",
              "      <td>USA</td>\n",
              "      <td>MILLAR Bob (USA)</td>\n",
              "      <td>0</td>\n",
              "      <td>0</td>\n",
              "      <td>Frank VAUGHN</td>\n",
              "      <td>NaN</td>\n",
              "      <td>NaN</td>\n",
              "    </tr>\n",
              "    <tr>\n",
              "      <th>56</th>\n",
              "      <td>201</td>\n",
              "      <td>1090</td>\n",
              "      <td>BEL</td>\n",
              "      <td>GOETINCK Hector (BEL)</td>\n",
              "      <td>0</td>\n",
              "      <td>0</td>\n",
              "      <td>Alexis CHANTRAINE</td>\n",
              "      <td>NaN</td>\n",
              "      <td>NaN</td>\n",
              "    </tr>\n",
              "    <tr>\n",
              "      <th>57</th>\n",
              "      <td>201</td>\n",
              "      <td>1090</td>\n",
              "      <td>USA</td>\n",
              "      <td>MILLAR Bob (USA)</td>\n",
              "      <td>0</td>\n",
              "      <td>0</td>\n",
              "      <td>Mike BOOKIE</td>\n",
              "      <td>NaN</td>\n",
              "      <td>NaN</td>\n",
              "    </tr>\n",
              "    <tr>\n",
              "      <th>58</th>\n",
              "      <td>201</td>\n",
              "      <td>1090</td>\n",
              "      <td>BEL</td>\n",
              "      <td>GOETINCK Hector (BEL)</td>\n",
              "      <td>0</td>\n",
              "      <td>0</td>\n",
              "      <td>Jean DE BIE</td>\n",
              "      <td>NaN</td>\n",
              "      <td>NaN</td>\n",
              "    </tr>\n",
              "    <tr>\n",
              "      <th>59</th>\n",
              "      <td>201</td>\n",
              "      <td>1090</td>\n",
              "      <td>USA</td>\n",
              "      <td>MILLAR Bob (USA)</td>\n",
              "      <td>0</td>\n",
              "      <td>0</td>\n",
              "      <td>Jim GENTLE</td>\n",
              "      <td>NaN</td>\n",
              "      <td>NaN</td>\n",
              "    </tr>\n",
              "    <tr>\n",
              "      <th>60</th>\n",
              "      <td>201</td>\n",
              "      <td>1090</td>\n",
              "      <td>BEL</td>\n",
              "      <td>GOETINCK Hector (BEL)</td>\n",
              "      <td>0</td>\n",
              "      <td>0</td>\n",
              "      <td>Andre SAEYS</td>\n",
              "      <td>NaN</td>\n",
              "      <td>NaN</td>\n",
              "    </tr>\n",
              "    <tr>\n",
              "      <th>61</th>\n",
              "      <td>201</td>\n",
              "      <td>1090</td>\n",
              "      <td>USA</td>\n",
              "      <td>MILLAR Bob (USA)</td>\n",
              "      <td>0</td>\n",
              "      <td>0</td>\n",
              "      <td>Phil SLONE</td>\n",
              "      <td>NaN</td>\n",
              "      <td>NaN</td>\n",
              "    </tr>\n",
              "    <tr>\n",
              "      <th>62</th>\n",
              "      <td>201</td>\n",
              "      <td>1090</td>\n",
              "      <td>BEL</td>\n",
              "      <td>GOETINCK Hector (BEL)</td>\n",
              "      <td>0</td>\n",
              "      <td>0</td>\n",
              "      <td>Henri DE DEKEN</td>\n",
              "      <td>NaN</td>\n",
              "      <td>NaN</td>\n",
              "    </tr>\n",
              "    <tr>\n",
              "      <th>63</th>\n",
              "      <td>201</td>\n",
              "      <td>1090</td>\n",
              "      <td>USA</td>\n",
              "      <td>MILLAR Bob (USA)</td>\n",
              "      <td>0</td>\n",
              "      <td>0</td>\n",
              "      <td>Arnie OLIVER</td>\n",
              "      <td>NaN</td>\n",
              "      <td>NaN</td>\n",
              "    </tr>\n",
              "    <tr>\n",
              "      <th>64</th>\n",
              "      <td>201</td>\n",
              "      <td>1090</td>\n",
              "      <td>BEL</td>\n",
              "      <td>GOETINCK Hector (BEL)</td>\n",
              "      <td>0</td>\n",
              "      <td>0</td>\n",
              "      <td>Gerard DELBEKE</td>\n",
              "      <td>NaN</td>\n",
              "      <td>NaN</td>\n",
              "    </tr>\n",
              "    <tr>\n",
              "      <th>65</th>\n",
              "      <td>201</td>\n",
              "      <td>1093</td>\n",
              "      <td>YUG</td>\n",
              "      <td>SIMONOVIC Bosko (YUG)</td>\n",
              "      <td>1</td>\n",
              "      <td>0</td>\n",
              "      <td>Milovan JAKSIC</td>\n",
              "      <td>GK</td>\n",
              "      <td>NaN</td>\n",
              "    </tr>\n",
              "    <tr>\n",
              "      <th>66</th>\n",
              "      <td>201</td>\n",
              "      <td>1093</td>\n",
              "      <td>BRA</td>\n",
              "      <td>DE CARVALHO Pindaro (BRA)</td>\n",
              "      <td>1</td>\n",
              "      <td>0</td>\n",
              "      <td>JOEL</td>\n",
              "      <td>GK</td>\n",
              "      <td>NaN</td>\n",
              "    </tr>\n",
              "    <tr>\n",
              "      <th>67</th>\n",
              "      <td>201</td>\n",
              "      <td>1093</td>\n",
              "      <td>YUG</td>\n",
              "      <td>SIMONOVIC Bosko (YUG)</td>\n",
              "      <td>1</td>\n",
              "      <td>0</td>\n",
              "      <td>Blagoje MARJANOVIC</td>\n",
              "      <td>NaN</td>\n",
              "      <td>NaN</td>\n",
              "    </tr>\n",
              "    <tr>\n",
              "      <th>68</th>\n",
              "      <td>201</td>\n",
              "      <td>1093</td>\n",
              "      <td>BRA</td>\n",
              "      <td>DE CARVALHO Pindaro (BRA)</td>\n",
              "      <td>1</td>\n",
              "      <td>0</td>\n",
              "      <td>TEOPHILO</td>\n",
              "      <td>NaN</td>\n",
              "      <td>NaN</td>\n",
              "    </tr>\n",
              "    <tr>\n",
              "      <th>69</th>\n",
              "      <td>201</td>\n",
              "      <td>1093</td>\n",
              "      <td>YUG</td>\n",
              "      <td>SIMONOVIC Bosko (YUG)</td>\n",
              "      <td>1</td>\n",
              "      <td>0</td>\n",
              "      <td>Dragan MIHAJLOVIC</td>\n",
              "      <td>NaN</td>\n",
              "      <td>NaN</td>\n",
              "    </tr>\n",
              "    <tr>\n",
              "      <th>70</th>\n",
              "      <td>201</td>\n",
              "      <td>1093</td>\n",
              "      <td>BRA</td>\n",
              "      <td>DE CARVALHO Pindaro (BRA)</td>\n",
              "      <td>1</td>\n",
              "      <td>0</td>\n",
              "      <td>POLY</td>\n",
              "      <td>NaN</td>\n",
              "      <td>NaN</td>\n",
              "    </tr>\n",
              "    <tr>\n",
              "      <th>71</th>\n",
              "      <td>201</td>\n",
              "      <td>1093</td>\n",
              "      <td>YUG</td>\n",
              "      <td>SIMONOVIC Bosko (YUG)</td>\n",
              "      <td>1</td>\n",
              "      <td>0</td>\n",
              "      <td>Milorad ARSENIJEVIC</td>\n",
              "      <td>NaN</td>\n",
              "      <td>NaN</td>\n",
              "    </tr>\n",
              "    <tr>\n",
              "      <th>72</th>\n",
              "      <td>201</td>\n",
              "      <td>1093</td>\n",
              "      <td>BRA</td>\n",
              "      <td>DE CARVALHO Pindaro (BRA)</td>\n",
              "      <td>1</td>\n",
              "      <td>0</td>\n",
              "      <td>FAUSTO</td>\n",
              "      <td>NaN</td>\n",
              "      <td>NaN</td>\n",
              "    </tr>\n",
              "    <tr>\n",
              "      <th>73</th>\n",
              "      <td>201</td>\n",
              "      <td>1093</td>\n",
              "      <td>YUG</td>\n",
              "      <td>SIMONOVIC Bosko (YUG)</td>\n",
              "      <td>1</td>\n",
              "      <td>0</td>\n",
              "      <td>Ivica BEK</td>\n",
              "      <td>NaN</td>\n",
              "      <td>G30'</td>\n",
              "    </tr>\n",
              "    <tr>\n",
              "      <th>74</th>\n",
              "      <td>201</td>\n",
              "      <td>1093</td>\n",
              "      <td>BRA</td>\n",
              "      <td>DE CARVALHO Pindaro (BRA)</td>\n",
              "      <td>1</td>\n",
              "      <td>0</td>\n",
              "      <td>PREGUINHO</td>\n",
              "      <td>C</td>\n",
              "      <td>G62'</td>\n",
              "    </tr>\n",
              "    <tr>\n",
              "      <th>75</th>\n",
              "      <td>201</td>\n",
              "      <td>1093</td>\n",
              "      <td>YUG</td>\n",
              "      <td>SIMONOVIC Bosko (YUG)</td>\n",
              "      <td>1</td>\n",
              "      <td>0</td>\n",
              "      <td>Momcilo DJOKIC</td>\n",
              "      <td>NaN</td>\n",
              "      <td>NaN</td>\n",
              "    </tr>\n",
              "    <tr>\n",
              "      <th>76</th>\n",
              "      <td>201</td>\n",
              "      <td>1093</td>\n",
              "      <td>BRA</td>\n",
              "      <td>DE CARVALHO Pindaro (BRA)</td>\n",
              "      <td>1</td>\n",
              "      <td>0</td>\n",
              "      <td>NILO</td>\n",
              "      <td>NaN</td>\n",
              "      <td>NaN</td>\n",
              "    </tr>\n",
              "    <tr>\n",
              "      <th>77</th>\n",
              "      <td>201</td>\n",
              "      <td>1093</td>\n",
              "      <td>YUG</td>\n",
              "      <td>SIMONOVIC Bosko (YUG)</td>\n",
              "      <td>1</td>\n",
              "      <td>0</td>\n",
              "      <td>Milutin IVKOVIC</td>\n",
              "      <td>C</td>\n",
              "      <td>NaN</td>\n",
              "    </tr>\n",
              "    <tr>\n",
              "      <th>78</th>\n",
              "      <td>201</td>\n",
              "      <td>1093</td>\n",
              "      <td>BRA</td>\n",
              "      <td>DE CARVALHO Pindaro (BRA)</td>\n",
              "      <td>1</td>\n",
              "      <td>0</td>\n",
              "      <td>BRILHANTE</td>\n",
              "      <td>NaN</td>\n",
              "      <td>NaN</td>\n",
              "    </tr>\n",
              "    <tr>\n",
              "      <th>79</th>\n",
              "      <td>201</td>\n",
              "      <td>1093</td>\n",
              "      <td>YUG</td>\n",
              "      <td>SIMONOVIC Bosko (YUG)</td>\n",
              "      <td>1</td>\n",
              "      <td>0</td>\n",
              "      <td>Djordje VUJADINOVIC</td>\n",
              "      <td>NaN</td>\n",
              "      <td>NaN</td>\n",
              "    </tr>\n",
              "    <tr>\n",
              "      <th>80</th>\n",
              "      <td>201</td>\n",
              "      <td>1093</td>\n",
              "      <td>BRA</td>\n",
              "      <td>DE CARVALHO Pindaro (BRA)</td>\n",
              "      <td>1</td>\n",
              "      <td>0</td>\n",
              "      <td>ARAKEN</td>\n",
              "      <td>NaN</td>\n",
              "      <td>NaN</td>\n",
              "    </tr>\n",
              "  </tbody>\n",
              "</table>\n",
              "</div>"
            ],
            "text/plain": [
              "    RoundID  MatchID Team Initials  ...                Player Name  Position  Event\n",
              "30      201     1096           FRA  ...             Emile VEINANTE       NaN    NaN\n",
              "31      201     1096           MEX  ...              Roberto GAYON       NaN    NaN\n",
              "32      201     1096           MEX  ...  Francisco GARZA GUTIERREZ       NaN    NaN\n",
              "33      201     1090           USA  ...              Jimmy DOUGLAS        GK    NaN\n",
              "34      201     1090           BEL  ...              Arnold BADJOU        GK    NaN\n",
              "35      201     1090           USA  ...                 Tom FLORIE         C   G45'\n",
              "36      201     1090           BEL  ...              Jean DE CLERQ       NaN    NaN\n",
              "37      201     1090           USA  ...            Jimmy GALLAGHER       NaN    NaN\n",
              "38      201     1090           BEL  ...                Jan DIDDENS       NaN    NaN\n",
              "39      201     1090           USA  ...            Billy GONSALVES       NaN    NaN\n",
              "40      201     1090           BEL  ...          Auguste HELLEMANS       NaN    NaN\n",
              "41      201     1090           USA  ...                Bart McGHEE       NaN   G23'\n",
              "42      201     1090           BEL  ...         Nikolaas HOYDONCKX       NaN    NaN\n",
              "43      201     1090           USA  ...           George MOORHOUSE       NaN    NaN\n",
              "44      201     1090           BEL  ...           Jacques MOESCHAL       NaN    NaN\n",
              "45      201     1090           USA  ...             Bert PATENAUDE       NaN   G69'\n",
              "46      201     1090           BEL  ...           Theodore NOUWENS       NaN    NaN\n",
              "47      201     1090           USA  ...                Ralph TRACY       NaN    NaN\n",
              "48      201     1090           BEL  ...              Fernand ADAMS       NaN    NaN\n",
              "49      201     1090           USA  ...             Alexander WOOD       NaN    NaN\n",
              "50      201     1090           BEL  ...               Louis VERSYP       NaN    NaN\n",
              "51      201     1090           USA  ...                Andrew AULD       NaN    NaN\n",
              "52      201     1090           BEL  ...           Bernard VOORHOOF       NaN    NaN\n",
              "53      201     1090           USA  ...                  Jim BROWN       NaN    NaN\n",
              "54      201     1090           BEL  ...              Pierre BRAINE         C    NaN\n",
              "55      201     1090           USA  ...               Frank VAUGHN       NaN    NaN\n",
              "56      201     1090           BEL  ...          Alexis CHANTRAINE       NaN    NaN\n",
              "57      201     1090           USA  ...                Mike BOOKIE       NaN    NaN\n",
              "58      201     1090           BEL  ...                Jean DE BIE       NaN    NaN\n",
              "59      201     1090           USA  ...                 Jim GENTLE       NaN    NaN\n",
              "60      201     1090           BEL  ...                Andre SAEYS       NaN    NaN\n",
              "61      201     1090           USA  ...                 Phil SLONE       NaN    NaN\n",
              "62      201     1090           BEL  ...             Henri DE DEKEN       NaN    NaN\n",
              "63      201     1090           USA  ...               Arnie OLIVER       NaN    NaN\n",
              "64      201     1090           BEL  ...             Gerard DELBEKE       NaN    NaN\n",
              "65      201     1093           YUG  ...             Milovan JAKSIC        GK    NaN\n",
              "66      201     1093           BRA  ...                       JOEL        GK    NaN\n",
              "67      201     1093           YUG  ...         Blagoje MARJANOVIC       NaN    NaN\n",
              "68      201     1093           BRA  ...                   TEOPHILO       NaN    NaN\n",
              "69      201     1093           YUG  ...          Dragan MIHAJLOVIC       NaN    NaN\n",
              "70      201     1093           BRA  ...                       POLY       NaN    NaN\n",
              "71      201     1093           YUG  ...        Milorad ARSENIJEVIC       NaN    NaN\n",
              "72      201     1093           BRA  ...                     FAUSTO       NaN    NaN\n",
              "73      201     1093           YUG  ...                  Ivica BEK       NaN   G30'\n",
              "74      201     1093           BRA  ...                  PREGUINHO         C   G62'\n",
              "75      201     1093           YUG  ...             Momcilo DJOKIC       NaN    NaN\n",
              "76      201     1093           BRA  ...                       NILO       NaN    NaN\n",
              "77      201     1093           YUG  ...            Milutin IVKOVIC         C    NaN\n",
              "78      201     1093           BRA  ...                  BRILHANTE       NaN    NaN\n",
              "79      201     1093           YUG  ...        Djordje VUJADINOVIC       NaN    NaN\n",
              "80      201     1093           BRA  ...                     ARAKEN       NaN    NaN\n",
              "\n",
              "[51 rows x 9 columns]"
            ]
          },
          "metadata": {
            "tags": []
          },
          "execution_count": 37
        }
      ]
    },
    {
      "cell_type": "code",
      "metadata": {
        "id": "ll7MKkFTnSWW",
        "colab_type": "code",
        "outputId": "06cff9fd-a60c-40c8-eb8c-00bea836ca2f",
        "colab": {
          "base_uri": "https://localhost:8080/",
          "height": 204
        }
      },
      "source": [
        "\n",
        "df.drop([0,15,26], axis=0).head()"
      ],
      "execution_count": 38,
      "outputs": [
        {
          "output_type": "execute_result",
          "data": {
            "text/html": [
              "<div>\n",
              "<style scoped>\n",
              "    .dataframe tbody tr th:only-of-type {\n",
              "        vertical-align: middle;\n",
              "    }\n",
              "\n",
              "    .dataframe tbody tr th {\n",
              "        vertical-align: top;\n",
              "    }\n",
              "\n",
              "    .dataframe thead th {\n",
              "        text-align: right;\n",
              "    }\n",
              "</style>\n",
              "<table border=\"1\" class=\"dataframe\">\n",
              "  <thead>\n",
              "    <tr style=\"text-align: right;\">\n",
              "      <th></th>\n",
              "      <th>RoundID</th>\n",
              "      <th>MatchID</th>\n",
              "      <th>Team Initials</th>\n",
              "      <th>Coach Name</th>\n",
              "      <th>Line-up</th>\n",
              "      <th>Shirt Number</th>\n",
              "      <th>Player Name</th>\n",
              "      <th>Position</th>\n",
              "      <th>Event</th>\n",
              "    </tr>\n",
              "  </thead>\n",
              "  <tbody>\n",
              "    <tr>\n",
              "      <th>1</th>\n",
              "      <td>201</td>\n",
              "      <td>1096</td>\n",
              "      <td>MEX</td>\n",
              "      <td>LUQUE Juan (MEX)</td>\n",
              "      <td>1</td>\n",
              "      <td>0</td>\n",
              "      <td>Oscar BONFIGLIO</td>\n",
              "      <td>GK</td>\n",
              "      <td>NaN</td>\n",
              "    </tr>\n",
              "    <tr>\n",
              "      <th>2</th>\n",
              "      <td>201</td>\n",
              "      <td>1096</td>\n",
              "      <td>FRA</td>\n",
              "      <td>CAUDRON Raoul (FRA)</td>\n",
              "      <td>1</td>\n",
              "      <td>0</td>\n",
              "      <td>Marcel LANGILLER</td>\n",
              "      <td>NaN</td>\n",
              "      <td>G40'</td>\n",
              "    </tr>\n",
              "    <tr>\n",
              "      <th>3</th>\n",
              "      <td>201</td>\n",
              "      <td>1096</td>\n",
              "      <td>MEX</td>\n",
              "      <td>LUQUE Juan (MEX)</td>\n",
              "      <td>1</td>\n",
              "      <td>0</td>\n",
              "      <td>Juan CARRENO</td>\n",
              "      <td>NaN</td>\n",
              "      <td>G70'</td>\n",
              "    </tr>\n",
              "    <tr>\n",
              "      <th>4</th>\n",
              "      <td>201</td>\n",
              "      <td>1096</td>\n",
              "      <td>FRA</td>\n",
              "      <td>CAUDRON Raoul (FRA)</td>\n",
              "      <td>1</td>\n",
              "      <td>0</td>\n",
              "      <td>Ernest LIBERATI</td>\n",
              "      <td>NaN</td>\n",
              "      <td>NaN</td>\n",
              "    </tr>\n",
              "    <tr>\n",
              "      <th>5</th>\n",
              "      <td>201</td>\n",
              "      <td>1096</td>\n",
              "      <td>MEX</td>\n",
              "      <td>LUQUE Juan (MEX)</td>\n",
              "      <td>1</td>\n",
              "      <td>0</td>\n",
              "      <td>Rafael GARZA</td>\n",
              "      <td>C</td>\n",
              "      <td>NaN</td>\n",
              "    </tr>\n",
              "  </tbody>\n",
              "</table>\n",
              "</div>"
            ],
            "text/plain": [
              "   RoundID  MatchID Team Initials  ...       Player Name  Position  Event\n",
              "1      201     1096           MEX  ...   Oscar BONFIGLIO        GK    NaN\n",
              "2      201     1096           FRA  ...  Marcel LANGILLER       NaN   G40'\n",
              "3      201     1096           MEX  ...      Juan CARRENO       NaN   G70'\n",
              "4      201     1096           FRA  ...   Ernest LIBERATI       NaN    NaN\n",
              "5      201     1096           MEX  ...      Rafael GARZA         C    NaN\n",
              "\n",
              "[5 rows x 9 columns]"
            ]
          },
          "metadata": {
            "tags": []
          },
          "execution_count": 38
        }
      ]
    },
    {
      "cell_type": "code",
      "metadata": {
        "id": "cfImmO5anYrM",
        "colab_type": "code",
        "outputId": "0376b387-af91-4970-ec7e-e9455069ac57",
        "colab": {
          "base_uri": "https://localhost:8080/",
          "height": 204
        }
      },
      "source": [
        "df[100:].head() #df.tail(-100) )"
      ],
      "execution_count": 39,
      "outputs": [
        {
          "output_type": "execute_result",
          "data": {
            "text/html": [
              "<div>\n",
              "<style scoped>\n",
              "    .dataframe tbody tr th:only-of-type {\n",
              "        vertical-align: middle;\n",
              "    }\n",
              "\n",
              "    .dataframe tbody tr th {\n",
              "        vertical-align: top;\n",
              "    }\n",
              "\n",
              "    .dataframe thead th {\n",
              "        text-align: right;\n",
              "    }\n",
              "</style>\n",
              "<table border=\"1\" class=\"dataframe\">\n",
              "  <thead>\n",
              "    <tr style=\"text-align: right;\">\n",
              "      <th></th>\n",
              "      <th>RoundID</th>\n",
              "      <th>MatchID</th>\n",
              "      <th>Team Initials</th>\n",
              "      <th>Coach Name</th>\n",
              "      <th>Line-up</th>\n",
              "      <th>Shirt Number</th>\n",
              "      <th>Player Name</th>\n",
              "      <th>Position</th>\n",
              "      <th>Event</th>\n",
              "    </tr>\n",
              "  </thead>\n",
              "  <tbody>\n",
              "    <tr>\n",
              "      <th>100</th>\n",
              "      <td>201</td>\n",
              "      <td>1093</td>\n",
              "      <td>BRA</td>\n",
              "      <td>DE CARVALHO Pindaro (BRA)</td>\n",
              "      <td>0</td>\n",
              "      <td>0</td>\n",
              "      <td>MANOELZINHO</td>\n",
              "      <td>NaN</td>\n",
              "      <td>NaN</td>\n",
              "    </tr>\n",
              "    <tr>\n",
              "      <th>101</th>\n",
              "      <td>201</td>\n",
              "      <td>1093</td>\n",
              "      <td>BRA</td>\n",
              "      <td>DE CARVALHO Pindaro (BRA)</td>\n",
              "      <td>0</td>\n",
              "      <td>0</td>\n",
              "      <td>IVAN MARIZ</td>\n",
              "      <td>NaN</td>\n",
              "      <td>NaN</td>\n",
              "    </tr>\n",
              "    <tr>\n",
              "      <th>102</th>\n",
              "      <td>201</td>\n",
              "      <td>1093</td>\n",
              "      <td>BRA</td>\n",
              "      <td>DE CARVALHO Pindaro (BRA)</td>\n",
              "      <td>0</td>\n",
              "      <td>0</td>\n",
              "      <td>MODERATO</td>\n",
              "      <td>NaN</td>\n",
              "      <td>NaN</td>\n",
              "    </tr>\n",
              "    <tr>\n",
              "      <th>103</th>\n",
              "      <td>201</td>\n",
              "      <td>1093</td>\n",
              "      <td>BRA</td>\n",
              "      <td>DE CARVALHO Pindaro (BRA)</td>\n",
              "      <td>0</td>\n",
              "      <td>0</td>\n",
              "      <td>VELLOSO</td>\n",
              "      <td>NaN</td>\n",
              "      <td>NaN</td>\n",
              "    </tr>\n",
              "    <tr>\n",
              "      <th>104</th>\n",
              "      <td>201</td>\n",
              "      <td>1093</td>\n",
              "      <td>BRA</td>\n",
              "      <td>DE CARVALHO Pindaro (BRA)</td>\n",
              "      <td>0</td>\n",
              "      <td>0</td>\n",
              "      <td>ZE LUIS</td>\n",
              "      <td>NaN</td>\n",
              "      <td>NaN</td>\n",
              "    </tr>\n",
              "  </tbody>\n",
              "</table>\n",
              "</div>"
            ],
            "text/plain": [
              "     RoundID  MatchID Team Initials  ...  Player Name  Position  Event\n",
              "100      201     1093           BRA  ...  MANOELZINHO       NaN    NaN\n",
              "101      201     1093           BRA  ...   IVAN MARIZ       NaN    NaN\n",
              "102      201     1093           BRA  ...     MODERATO       NaN    NaN\n",
              "103      201     1093           BRA  ...      VELLOSO       NaN    NaN\n",
              "104      201     1093           BRA  ...      ZE LUIS       NaN    NaN\n",
              "\n",
              "[5 rows x 9 columns]"
            ]
          },
          "metadata": {
            "tags": []
          },
          "execution_count": 39
        }
      ]
    },
    {
      "cell_type": "code",
      "metadata": {
        "id": "uCKT3z79nuJ1",
        "colab_type": "code",
        "outputId": "bfd7baad-62ab-4f4f-faa8-f0a75cf5180a",
        "colab": {
          "base_uri": "https://localhost:8080/",
          "height": 187
        }
      },
      "source": [
        "\n",
        "df['Team Initials'].unique()"
      ],
      "execution_count": 40,
      "outputs": [
        {
          "output_type": "execute_result",
          "data": {
            "text/plain": [
              "array(['FRA', 'MEX', 'USA', 'BEL', 'YUG', 'BRA', 'ROU', 'PER', 'ARG',\n",
              "       'CHI', 'BOL', 'PAR', 'URU', 'AUT', 'HUN', 'EGY', 'SUI', 'NED',\n",
              "       'SWE', 'GER', 'ESP', 'ITA', 'TCH', 'INH', 'CUB', 'NOR', 'POL',\n",
              "       'ENG', 'SCO', 'FRG', 'TUR', 'KOR', 'URS', 'WAL', 'NIR', 'COL',\n",
              "       'BUL', 'PRK', 'POR', 'ISR', 'MAR', 'SLV', 'GDR', 'AUS', 'ZAI',\n",
              "       'HAI', 'TUN', 'IRN', 'CMR', 'NZL', 'ALG', 'HON', 'KUW', 'CAN',\n",
              "       'IRQ', 'DEN', 'UAE', 'CRC', 'IRL', 'KSA', 'RUS', 'GRE', 'NGA',\n",
              "       'RSA', 'JPN', 'JAM', 'CRO', 'SEN', 'SVN', 'ECU', 'CHN', 'TRI',\n",
              "       'CIV', 'SCG', 'ANG', 'CZE', 'GHA', 'TOG', 'UKR', 'SRB', 'SVK',\n",
              "       'BIH'], dtype=object)"
            ]
          },
          "metadata": {
            "tags": []
          },
          "execution_count": 40
        }
      ]
    },
    {
      "cell_type": "code",
      "metadata": {
        "id": "rWoCr6BkoLcf",
        "colab_type": "code",
        "outputId": "7e322545-c1ab-48b5-895d-451e2c45f0b2",
        "colab": {
          "base_uri": "https://localhost:8080/",
          "height": 221
        }
      },
      "source": [
        "df['Coach Name'].value_counts()"
      ],
      "execution_count": 41,
      "outputs": [
        {
          "output_type": "execute_result",
          "data": {
            "text/plain": [
              "SCOLARI Luiz Felipe (BRA)         575\n",
              "SCHOEN Helmut (FRG)               550\n",
              "PARREIRA Carlos Alberto (BRA)     514\n",
              "MILUTINOVIC Bora (YUG)            443\n",
              "ZAGALLO Mario (BRA)               440\n",
              "                                 ... \n",
              "VAN MASTENBROEK Johannes (NED)     18\n",
              "PASCUCCI Felipe (ITA)              18\n",
              "LUIZ VINHAES (BRA)                 17\n",
              "McREA James (SCO)                  17\n",
              "RADULESCU Constantin (ROU)         15\n",
              "Name: Coach Name, Length: 335, dtype: int64"
            ]
          },
          "metadata": {
            "tags": []
          },
          "execution_count": 41
        }
      ]
    },
    {
      "cell_type": "code",
      "metadata": {
        "id": "MZAaCYQJoRhW",
        "colab_type": "code",
        "outputId": "9fbbd2ca-354e-4dd2-a5e3-6dd0a0fb87b2",
        "colab": {
          "base_uri": "https://localhost:8080/",
          "height": 142
        }
      },
      "source": [
        "df.agg(['count', 'size', 'nunique'])"
      ],
      "execution_count": 42,
      "outputs": [
        {
          "output_type": "execute_result",
          "data": {
            "text/html": [
              "<div>\n",
              "<style scoped>\n",
              "    .dataframe tbody tr th:only-of-type {\n",
              "        vertical-align: middle;\n",
              "    }\n",
              "\n",
              "    .dataframe tbody tr th {\n",
              "        vertical-align: top;\n",
              "    }\n",
              "\n",
              "    .dataframe thead th {\n",
              "        text-align: right;\n",
              "    }\n",
              "</style>\n",
              "<table border=\"1\" class=\"dataframe\">\n",
              "  <thead>\n",
              "    <tr style=\"text-align: right;\">\n",
              "      <th></th>\n",
              "      <th>RoundID</th>\n",
              "      <th>MatchID</th>\n",
              "      <th>Team Initials</th>\n",
              "      <th>Coach Name</th>\n",
              "      <th>Line-up</th>\n",
              "      <th>Shirt Number</th>\n",
              "      <th>Player Name</th>\n",
              "      <th>Position</th>\n",
              "      <th>Event</th>\n",
              "    </tr>\n",
              "  </thead>\n",
              "  <tbody>\n",
              "    <tr>\n",
              "      <th>count</th>\n",
              "      <td>37784</td>\n",
              "      <td>37784</td>\n",
              "      <td>37784</td>\n",
              "      <td>37784</td>\n",
              "      <td>37784</td>\n",
              "      <td>37784</td>\n",
              "      <td>37784</td>\n",
              "      <td>4143</td>\n",
              "      <td>9069</td>\n",
              "    </tr>\n",
              "    <tr>\n",
              "      <th>size</th>\n",
              "      <td>37784</td>\n",
              "      <td>37784</td>\n",
              "      <td>37784</td>\n",
              "      <td>37784</td>\n",
              "      <td>37784</td>\n",
              "      <td>37784</td>\n",
              "      <td>37784</td>\n",
              "      <td>37784</td>\n",
              "      <td>37784</td>\n",
              "    </tr>\n",
              "    <tr>\n",
              "      <th>nunique</th>\n",
              "      <td>101</td>\n",
              "      <td>836</td>\n",
              "      <td>82</td>\n",
              "      <td>335</td>\n",
              "      <td>2</td>\n",
              "      <td>24</td>\n",
              "      <td>7663</td>\n",
              "      <td>3</td>\n",
              "      <td>1893</td>\n",
              "    </tr>\n",
              "  </tbody>\n",
              "</table>\n",
              "</div>"
            ],
            "text/plain": [
              "         RoundID  MatchID  Team Initials  ...  Player Name  Position  Event\n",
              "count      37784    37784          37784  ...        37784      4143   9069\n",
              "size       37784    37784          37784  ...        37784     37784  37784\n",
              "nunique      101      836             82  ...         7663         3   1893\n",
              "\n",
              "[3 rows x 9 columns]"
            ]
          },
          "metadata": {
            "tags": []
          },
          "execution_count": 42
        }
      ]
    },
    {
      "cell_type": "code",
      "metadata": {
        "id": "93aDrw-hocEY",
        "colab_type": "code",
        "outputId": "0f134e8c-7a63-44fd-fd8f-01fb5bffd9a6",
        "colab": {
          "base_uri": "https://localhost:8080/",
          "height": 450
        }
      },
      "source": [
        "df.groupby('Team Initials').agg(['count', 'size', 'nunique']).stack()"
      ],
      "execution_count": 44,
      "outputs": [
        {
          "output_type": "execute_result",
          "data": {
            "text/html": [
              "<div>\n",
              "<style scoped>\n",
              "    .dataframe tbody tr th:only-of-type {\n",
              "        vertical-align: middle;\n",
              "    }\n",
              "\n",
              "    .dataframe tbody tr th {\n",
              "        vertical-align: top;\n",
              "    }\n",
              "\n",
              "    .dataframe thead th {\n",
              "        text-align: right;\n",
              "    }\n",
              "</style>\n",
              "<table border=\"1\" class=\"dataframe\">\n",
              "  <thead>\n",
              "    <tr style=\"text-align: right;\">\n",
              "      <th></th>\n",
              "      <th></th>\n",
              "      <th>RoundID</th>\n",
              "      <th>MatchID</th>\n",
              "      <th>Coach Name</th>\n",
              "      <th>Line-up</th>\n",
              "      <th>Shirt Number</th>\n",
              "      <th>Player Name</th>\n",
              "      <th>Position</th>\n",
              "      <th>Event</th>\n",
              "    </tr>\n",
              "    <tr>\n",
              "      <th>Team Initials</th>\n",
              "      <th></th>\n",
              "      <th></th>\n",
              "      <th></th>\n",
              "      <th></th>\n",
              "      <th></th>\n",
              "      <th></th>\n",
              "      <th></th>\n",
              "      <th></th>\n",
              "      <th></th>\n",
              "    </tr>\n",
              "  </thead>\n",
              "  <tbody>\n",
              "    <tr>\n",
              "      <th rowspan=\"3\" valign=\"top\">ALG</th>\n",
              "      <th>count</th>\n",
              "      <td>316</td>\n",
              "      <td>316</td>\n",
              "      <td>316</td>\n",
              "      <td>316</td>\n",
              "      <td>316</td>\n",
              "      <td>316</td>\n",
              "      <td>44</td>\n",
              "      <td>89</td>\n",
              "    </tr>\n",
              "    <tr>\n",
              "      <th>size</th>\n",
              "      <td>316</td>\n",
              "      <td>316</td>\n",
              "      <td>316</td>\n",
              "      <td>316</td>\n",
              "      <td>316</td>\n",
              "      <td>316</td>\n",
              "      <td>316</td>\n",
              "      <td>316</td>\n",
              "    </tr>\n",
              "    <tr>\n",
              "      <th>nunique</th>\n",
              "      <td>5</td>\n",
              "      <td>13</td>\n",
              "      <td>3</td>\n",
              "      <td>2</td>\n",
              "      <td>23</td>\n",
              "      <td>75</td>\n",
              "      <td>2</td>\n",
              "      <td>73</td>\n",
              "    </tr>\n",
              "    <tr>\n",
              "      <th rowspan=\"2\" valign=\"top\">ANG</th>\n",
              "      <th>count</th>\n",
              "      <td>69</td>\n",
              "      <td>69</td>\n",
              "      <td>69</td>\n",
              "      <td>69</td>\n",
              "      <td>69</td>\n",
              "      <td>69</td>\n",
              "      <td>8</td>\n",
              "      <td>27</td>\n",
              "    </tr>\n",
              "    <tr>\n",
              "      <th>size</th>\n",
              "      <td>69</td>\n",
              "      <td>69</td>\n",
              "      <td>69</td>\n",
              "      <td>69</td>\n",
              "      <td>69</td>\n",
              "      <td>69</td>\n",
              "      <td>69</td>\n",
              "      <td>69</td>\n",
              "    </tr>\n",
              "    <tr>\n",
              "      <th>...</th>\n",
              "      <th>...</th>\n",
              "      <td>...</td>\n",
              "      <td>...</td>\n",
              "      <td>...</td>\n",
              "      <td>...</td>\n",
              "      <td>...</td>\n",
              "      <td>...</td>\n",
              "      <td>...</td>\n",
              "      <td>...</td>\n",
              "    </tr>\n",
              "    <tr>\n",
              "      <th rowspan=\"2\" valign=\"top\">YUG</th>\n",
              "      <th>size</th>\n",
              "      <td>799</td>\n",
              "      <td>799</td>\n",
              "      <td>799</td>\n",
              "      <td>799</td>\n",
              "      <td>799</td>\n",
              "      <td>799</td>\n",
              "      <td>799</td>\n",
              "      <td>799</td>\n",
              "    </tr>\n",
              "    <tr>\n",
              "      <th>nunique</th>\n",
              "      <td>19</td>\n",
              "      <td>37</td>\n",
              "      <td>7</td>\n",
              "      <td>2</td>\n",
              "      <td>23</td>\n",
              "      <td>168</td>\n",
              "      <td>2</td>\n",
              "      <td>112</td>\n",
              "    </tr>\n",
              "    <tr>\n",
              "      <th rowspan=\"3\" valign=\"top\">ZAI</th>\n",
              "      <th>count</th>\n",
              "      <td>66</td>\n",
              "      <td>66</td>\n",
              "      <td>66</td>\n",
              "      <td>66</td>\n",
              "      <td>66</td>\n",
              "      <td>66</td>\n",
              "      <td>8</td>\n",
              "      <td>14</td>\n",
              "    </tr>\n",
              "    <tr>\n",
              "      <th>size</th>\n",
              "      <td>66</td>\n",
              "      <td>66</td>\n",
              "      <td>66</td>\n",
              "      <td>66</td>\n",
              "      <td>66</td>\n",
              "      <td>66</td>\n",
              "      <td>66</td>\n",
              "      <td>66</td>\n",
              "    </tr>\n",
              "    <tr>\n",
              "      <th>nunique</th>\n",
              "      <td>1</td>\n",
              "      <td>3</td>\n",
              "      <td>1</td>\n",
              "      <td>2</td>\n",
              "      <td>22</td>\n",
              "      <td>22</td>\n",
              "      <td>2</td>\n",
              "      <td>14</td>\n",
              "    </tr>\n",
              "  </tbody>\n",
              "</table>\n",
              "<p>246 rows × 8 columns</p>\n",
              "</div>"
            ],
            "text/plain": [
              "                       RoundID  MatchID  ...  Position  Event\n",
              "Team Initials                            ...                 \n",
              "ALG           count        316      316  ...        44     89\n",
              "              size         316      316  ...       316    316\n",
              "              nunique        5       13  ...         2     73\n",
              "ANG           count         69       69  ...         8     27\n",
              "              size          69       69  ...        69     69\n",
              "...                        ...      ...  ...       ...    ...\n",
              "YUG           size         799      799  ...       799    799\n",
              "              nunique       19       37  ...         2    112\n",
              "ZAI           count         66       66  ...         8     14\n",
              "              size          66       66  ...        66     66\n",
              "              nunique        1        3  ...         2     14\n",
              "\n",
              "[246 rows x 8 columns]"
            ]
          },
          "metadata": {
            "tags": []
          },
          "execution_count": 44
        }
      ]
    },
    {
      "cell_type": "code",
      "metadata": {
        "id": "wQy0O0Aroe7Q",
        "colab_type": "code",
        "outputId": "6ca23996-5c4d-4e9e-c6e4-8076cf63029d",
        "colab": {
          "base_uri": "https://localhost:8080/",
          "height": 221
        }
      },
      "source": [
        "\n",
        "df.MatchID.value_counts()"
      ],
      "execution_count": 45,
      "outputs": [
        {
          "output_type": "execute_result",
          "data": {
            "text/plain": [
              "300186487    92\n",
              "300186474    92\n",
              "300186459    92\n",
              "300186503    92\n",
              "300186490    92\n",
              "             ..\n",
              "1157         35\n",
              "1092         34\n",
              "1096         33\n",
              "1141         33\n",
              "1090         32\n",
              "Name: MatchID, Length: 836, dtype: int64"
            ]
          },
          "metadata": {
            "tags": []
          },
          "execution_count": 45
        }
      ]
    },
    {
      "cell_type": "code",
      "metadata": {
        "id": "D4mVclpXoumZ",
        "colab_type": "code",
        "outputId": "ca785355-e166-43e6-9604-607f99c72370",
        "colab": {
          "base_uri": "https://localhost:8080/",
          "height": 204
        }
      },
      "source": [
        "df_sample = df.sample(frac=0.05, random_state=1)\n",
        "df_sample.head()"
      ],
      "execution_count": 46,
      "outputs": [
        {
          "output_type": "execute_result",
          "data": {
            "text/html": [
              "<div>\n",
              "<style scoped>\n",
              "    .dataframe tbody tr th:only-of-type {\n",
              "        vertical-align: middle;\n",
              "    }\n",
              "\n",
              "    .dataframe tbody tr th {\n",
              "        vertical-align: top;\n",
              "    }\n",
              "\n",
              "    .dataframe thead th {\n",
              "        text-align: right;\n",
              "    }\n",
              "</style>\n",
              "<table border=\"1\" class=\"dataframe\">\n",
              "  <thead>\n",
              "    <tr style=\"text-align: right;\">\n",
              "      <th></th>\n",
              "      <th>RoundID</th>\n",
              "      <th>MatchID</th>\n",
              "      <th>Team Initials</th>\n",
              "      <th>Coach Name</th>\n",
              "      <th>Line-up</th>\n",
              "      <th>Shirt Number</th>\n",
              "      <th>Player Name</th>\n",
              "      <th>Position</th>\n",
              "      <th>Event</th>\n",
              "    </tr>\n",
              "  </thead>\n",
              "  <tbody>\n",
              "    <tr>\n",
              "      <th>7536</th>\n",
              "      <td>238</td>\n",
              "      <td>1653</td>\n",
              "      <td>FRA</td>\n",
              "      <td>GUERIN Henri (FRA)</td>\n",
              "      <td>0</td>\n",
              "      <td>8</td>\n",
              "      <td>Nestor COMBIN</td>\n",
              "      <td>NaN</td>\n",
              "      <td>NaN</td>\n",
              "    </tr>\n",
              "    <tr>\n",
              "      <th>25498</th>\n",
              "      <td>43950100</td>\n",
              "      <td>43950007</td>\n",
              "      <td>ARG</td>\n",
              "      <td>BIELSA Marcelo (ARG)</td>\n",
              "      <td>0</td>\n",
              "      <td>20</td>\n",
              "      <td>GALLARDO</td>\n",
              "      <td>NaN</td>\n",
              "      <td>NaN</td>\n",
              "    </tr>\n",
              "    <tr>\n",
              "      <th>11150</th>\n",
              "      <td>263</td>\n",
              "      <td>1948</td>\n",
              "      <td>NED</td>\n",
              "      <td>MICHELS Rinus (NED)</td>\n",
              "      <td>0</td>\n",
              "      <td>22</td>\n",
              "      <td>Harry VOS</td>\n",
              "      <td>NaN</td>\n",
              "      <td>NaN</td>\n",
              "    </tr>\n",
              "    <tr>\n",
              "      <th>14225</th>\n",
              "      <td>293</td>\n",
              "      <td>903</td>\n",
              "      <td>ESP</td>\n",
              "      <td>SANTAMARIA Jose (URU)</td>\n",
              "      <td>0</td>\n",
              "      <td>22</td>\n",
              "      <td>MIGUEL ANGEL</td>\n",
              "      <td>NaN</td>\n",
              "      <td>NaN</td>\n",
              "    </tr>\n",
              "    <tr>\n",
              "      <th>26566</th>\n",
              "      <td>43950100</td>\n",
              "      <td>43950027</td>\n",
              "      <td>MEX</td>\n",
              "      <td>Javier AGUIRRE (MEX)</td>\n",
              "      <td>1</td>\n",
              "      <td>5</td>\n",
              "      <td>M. VIDRIO</td>\n",
              "      <td>NaN</td>\n",
              "      <td>NaN</td>\n",
              "    </tr>\n",
              "  </tbody>\n",
              "</table>\n",
              "</div>"
            ],
            "text/plain": [
              "        RoundID   MatchID Team Initials  ...    Player Name  Position  Event\n",
              "7536        238      1653           FRA  ...  Nestor COMBIN       NaN    NaN\n",
              "25498  43950100  43950007           ARG  ...       GALLARDO       NaN    NaN\n",
              "11150       263      1948           NED  ...      Harry VOS       NaN    NaN\n",
              "14225       293       903           ESP  ...   MIGUEL ANGEL       NaN    NaN\n",
              "26566  43950100  43950027           MEX  ...      M. VIDRIO       NaN    NaN\n",
              "\n",
              "[5 rows x 9 columns]"
            ]
          },
          "metadata": {
            "tags": []
          },
          "execution_count": 46
        }
      ]
    },
    {
      "cell_type": "code",
      "metadata": {
        "id": "7JYG8hTPpMkk",
        "colab_type": "code",
        "outputId": "e6a5e202-9b18-4d6a-9455-a94f4d578c1e",
        "colab": {
          "base_uri": "https://localhost:8080/",
          "height": 204
        }
      },
      "source": [
        "df_dropped = df.dropna(subset=['Team Initials'])\n",
        "df_dropped.head()"
      ],
      "execution_count": 47,
      "outputs": [
        {
          "output_type": "execute_result",
          "data": {
            "text/html": [
              "<div>\n",
              "<style scoped>\n",
              "    .dataframe tbody tr th:only-of-type {\n",
              "        vertical-align: middle;\n",
              "    }\n",
              "\n",
              "    .dataframe tbody tr th {\n",
              "        vertical-align: top;\n",
              "    }\n",
              "\n",
              "    .dataframe thead th {\n",
              "        text-align: right;\n",
              "    }\n",
              "</style>\n",
              "<table border=\"1\" class=\"dataframe\">\n",
              "  <thead>\n",
              "    <tr style=\"text-align: right;\">\n",
              "      <th></th>\n",
              "      <th>RoundID</th>\n",
              "      <th>MatchID</th>\n",
              "      <th>Team Initials</th>\n",
              "      <th>Coach Name</th>\n",
              "      <th>Line-up</th>\n",
              "      <th>Shirt Number</th>\n",
              "      <th>Player Name</th>\n",
              "      <th>Position</th>\n",
              "      <th>Event</th>\n",
              "    </tr>\n",
              "  </thead>\n",
              "  <tbody>\n",
              "    <tr>\n",
              "      <th>0</th>\n",
              "      <td>201</td>\n",
              "      <td>1096</td>\n",
              "      <td>FRA</td>\n",
              "      <td>CAUDRON Raoul (FRA)</td>\n",
              "      <td>1</td>\n",
              "      <td>0</td>\n",
              "      <td>Alex THEPOT</td>\n",
              "      <td>GK</td>\n",
              "      <td>NaN</td>\n",
              "    </tr>\n",
              "    <tr>\n",
              "      <th>1</th>\n",
              "      <td>201</td>\n",
              "      <td>1096</td>\n",
              "      <td>MEX</td>\n",
              "      <td>LUQUE Juan (MEX)</td>\n",
              "      <td>1</td>\n",
              "      <td>0</td>\n",
              "      <td>Oscar BONFIGLIO</td>\n",
              "      <td>GK</td>\n",
              "      <td>NaN</td>\n",
              "    </tr>\n",
              "    <tr>\n",
              "      <th>2</th>\n",
              "      <td>201</td>\n",
              "      <td>1096</td>\n",
              "      <td>FRA</td>\n",
              "      <td>CAUDRON Raoul (FRA)</td>\n",
              "      <td>1</td>\n",
              "      <td>0</td>\n",
              "      <td>Marcel LANGILLER</td>\n",
              "      <td>NaN</td>\n",
              "      <td>G40'</td>\n",
              "    </tr>\n",
              "    <tr>\n",
              "      <th>3</th>\n",
              "      <td>201</td>\n",
              "      <td>1096</td>\n",
              "      <td>MEX</td>\n",
              "      <td>LUQUE Juan (MEX)</td>\n",
              "      <td>1</td>\n",
              "      <td>0</td>\n",
              "      <td>Juan CARRENO</td>\n",
              "      <td>NaN</td>\n",
              "      <td>G70'</td>\n",
              "    </tr>\n",
              "    <tr>\n",
              "      <th>4</th>\n",
              "      <td>201</td>\n",
              "      <td>1096</td>\n",
              "      <td>FRA</td>\n",
              "      <td>CAUDRON Raoul (FRA)</td>\n",
              "      <td>1</td>\n",
              "      <td>0</td>\n",
              "      <td>Ernest LIBERATI</td>\n",
              "      <td>NaN</td>\n",
              "      <td>NaN</td>\n",
              "    </tr>\n",
              "  </tbody>\n",
              "</table>\n",
              "</div>"
            ],
            "text/plain": [
              "   RoundID  MatchID Team Initials  ...       Player Name  Position  Event\n",
              "0      201     1096           FRA  ...       Alex THEPOT        GK    NaN\n",
              "1      201     1096           MEX  ...   Oscar BONFIGLIO        GK    NaN\n",
              "2      201     1096           FRA  ...  Marcel LANGILLER       NaN   G40'\n",
              "3      201     1096           MEX  ...      Juan CARRENO       NaN   G70'\n",
              "4      201     1096           FRA  ...   Ernest LIBERATI       NaN    NaN\n",
              "\n",
              "[5 rows x 9 columns]"
            ]
          },
          "metadata": {
            "tags": []
          },
          "execution_count": 47
        }
      ]
    },
    {
      "cell_type": "code",
      "metadata": {
        "id": "hU9keJZKppKQ",
        "colab_type": "code",
        "outputId": "ba7b2dc9-95b5-45f3-a1c9-30bab70425cc",
        "colab": {
          "base_uri": "https://localhost:8080/",
          "height": 34
        }
      },
      "source": [
        "df_dropped.shape"
      ],
      "execution_count": 48,
      "outputs": [
        {
          "output_type": "execute_result",
          "data": {
            "text/plain": [
              "(37784, 9)"
            ]
          },
          "metadata": {
            "tags": []
          },
          "execution_count": 48
        }
      ]
    },
    {
      "cell_type": "code",
      "metadata": {
        "id": "PzhJYVDupty4",
        "colab_type": "code",
        "outputId": "a4281be0-b3f4-4dfb-de1c-be3f552f690d",
        "colab": {
          "base_uri": "https://localhost:8080/",
          "height": 204
        }
      },
      "source": [
        "df_copy = df.copy()\n",
        "df_copy.head()"
      ],
      "execution_count": 49,
      "outputs": [
        {
          "output_type": "execute_result",
          "data": {
            "text/html": [
              "<div>\n",
              "<style scoped>\n",
              "    .dataframe tbody tr th:only-of-type {\n",
              "        vertical-align: middle;\n",
              "    }\n",
              "\n",
              "    .dataframe tbody tr th {\n",
              "        vertical-align: top;\n",
              "    }\n",
              "\n",
              "    .dataframe thead th {\n",
              "        text-align: right;\n",
              "    }\n",
              "</style>\n",
              "<table border=\"1\" class=\"dataframe\">\n",
              "  <thead>\n",
              "    <tr style=\"text-align: right;\">\n",
              "      <th></th>\n",
              "      <th>RoundID</th>\n",
              "      <th>MatchID</th>\n",
              "      <th>Team Initials</th>\n",
              "      <th>Coach Name</th>\n",
              "      <th>Line-up</th>\n",
              "      <th>Shirt Number</th>\n",
              "      <th>Player Name</th>\n",
              "      <th>Position</th>\n",
              "      <th>Event</th>\n",
              "    </tr>\n",
              "  </thead>\n",
              "  <tbody>\n",
              "    <tr>\n",
              "      <th>0</th>\n",
              "      <td>201</td>\n",
              "      <td>1096</td>\n",
              "      <td>FRA</td>\n",
              "      <td>CAUDRON Raoul (FRA)</td>\n",
              "      <td>1</td>\n",
              "      <td>0</td>\n",
              "      <td>Alex THEPOT</td>\n",
              "      <td>GK</td>\n",
              "      <td>NaN</td>\n",
              "    </tr>\n",
              "    <tr>\n",
              "      <th>1</th>\n",
              "      <td>201</td>\n",
              "      <td>1096</td>\n",
              "      <td>MEX</td>\n",
              "      <td>LUQUE Juan (MEX)</td>\n",
              "      <td>1</td>\n",
              "      <td>0</td>\n",
              "      <td>Oscar BONFIGLIO</td>\n",
              "      <td>GK</td>\n",
              "      <td>NaN</td>\n",
              "    </tr>\n",
              "    <tr>\n",
              "      <th>2</th>\n",
              "      <td>201</td>\n",
              "      <td>1096</td>\n",
              "      <td>FRA</td>\n",
              "      <td>CAUDRON Raoul (FRA)</td>\n",
              "      <td>1</td>\n",
              "      <td>0</td>\n",
              "      <td>Marcel LANGILLER</td>\n",
              "      <td>NaN</td>\n",
              "      <td>G40'</td>\n",
              "    </tr>\n",
              "    <tr>\n",
              "      <th>3</th>\n",
              "      <td>201</td>\n",
              "      <td>1096</td>\n",
              "      <td>MEX</td>\n",
              "      <td>LUQUE Juan (MEX)</td>\n",
              "      <td>1</td>\n",
              "      <td>0</td>\n",
              "      <td>Juan CARRENO</td>\n",
              "      <td>NaN</td>\n",
              "      <td>G70'</td>\n",
              "    </tr>\n",
              "    <tr>\n",
              "      <th>4</th>\n",
              "      <td>201</td>\n",
              "      <td>1096</td>\n",
              "      <td>FRA</td>\n",
              "      <td>CAUDRON Raoul (FRA)</td>\n",
              "      <td>1</td>\n",
              "      <td>0</td>\n",
              "      <td>Ernest LIBERATI</td>\n",
              "      <td>NaN</td>\n",
              "      <td>NaN</td>\n",
              "    </tr>\n",
              "  </tbody>\n",
              "</table>\n",
              "</div>"
            ],
            "text/plain": [
              "   RoundID  MatchID Team Initials  ...       Player Name  Position  Event\n",
              "0      201     1096           FRA  ...       Alex THEPOT        GK    NaN\n",
              "1      201     1096           MEX  ...   Oscar BONFIGLIO        GK    NaN\n",
              "2      201     1096           FRA  ...  Marcel LANGILLER       NaN   G40'\n",
              "3      201     1096           MEX  ...      Juan CARRENO       NaN   G70'\n",
              "4      201     1096           FRA  ...   Ernest LIBERATI       NaN    NaN\n",
              "\n",
              "[5 rows x 9 columns]"
            ]
          },
          "metadata": {
            "tags": []
          },
          "execution_count": 49
        }
      ]
    },
    {
      "cell_type": "code",
      "metadata": {
        "id": "_qr07Dy7qP5b",
        "colab_type": "code",
        "outputId": "43855e03-bb11-40cc-cee8-42ecae715c8b",
        "colab": {
          "base_uri": "https://localhost:8080/",
          "height": 34
        }
      },
      "source": [
        "\n",
        "df_copy.shape"
      ],
      "execution_count": 50,
      "outputs": [
        {
          "output_type": "execute_result",
          "data": {
            "text/plain": [
              "(37784, 9)"
            ]
          },
          "metadata": {
            "tags": []
          },
          "execution_count": 50
        }
      ]
    },
    {
      "cell_type": "code",
      "metadata": {
        "id": "KPcaKUHYqUBl",
        "colab_type": "code",
        "outputId": "27a23535-ff09-4a46-9c07-0130f4b4a75b",
        "colab": {
          "base_uri": "https://localhost:8080/",
          "height": 34
        }
      },
      "source": [
        "\n",
        "df_dropped['Shirt Number'].dtype"
      ],
      "execution_count": 51,
      "outputs": [
        {
          "output_type": "execute_result",
          "data": {
            "text/plain": [
              "dtype('int64')"
            ]
          },
          "metadata": {
            "tags": []
          },
          "execution_count": 51
        }
      ]
    },
    {
      "cell_type": "code",
      "metadata": {
        "id": "R1Tk5FX7qYl9",
        "colab_type": "code",
        "colab": {}
      },
      "source": [
        "df_copy['MatchID'].fillna(value=np.round(df['MatchID'].mean(),decimals=0), inplace=True)"
      ],
      "execution_count": 0,
      "outputs": []
    },
    {
      "cell_type": "code",
      "metadata": {
        "id": "OnuzFfSwqcXN",
        "colab_type": "code",
        "outputId": "8d6a0061-4ccc-4679-fe36-c64dfe538ba5",
        "colab": {
          "base_uri": "https://localhost:8080/",
          "height": 142
        }
      },
      "source": [
        "df_copy.agg(['count', 'size', 'nunique'])"
      ],
      "execution_count": 53,
      "outputs": [
        {
          "output_type": "execute_result",
          "data": {
            "text/html": [
              "<div>\n",
              "<style scoped>\n",
              "    .dataframe tbody tr th:only-of-type {\n",
              "        vertical-align: middle;\n",
              "    }\n",
              "\n",
              "    .dataframe tbody tr th {\n",
              "        vertical-align: top;\n",
              "    }\n",
              "\n",
              "    .dataframe thead th {\n",
              "        text-align: right;\n",
              "    }\n",
              "</style>\n",
              "<table border=\"1\" class=\"dataframe\">\n",
              "  <thead>\n",
              "    <tr style=\"text-align: right;\">\n",
              "      <th></th>\n",
              "      <th>RoundID</th>\n",
              "      <th>MatchID</th>\n",
              "      <th>Team Initials</th>\n",
              "      <th>Coach Name</th>\n",
              "      <th>Line-up</th>\n",
              "      <th>Shirt Number</th>\n",
              "      <th>Player Name</th>\n",
              "      <th>Position</th>\n",
              "      <th>Event</th>\n",
              "    </tr>\n",
              "  </thead>\n",
              "  <tbody>\n",
              "    <tr>\n",
              "      <th>count</th>\n",
              "      <td>37784</td>\n",
              "      <td>37784</td>\n",
              "      <td>37784</td>\n",
              "      <td>37784</td>\n",
              "      <td>37784</td>\n",
              "      <td>37784</td>\n",
              "      <td>37784</td>\n",
              "      <td>4143</td>\n",
              "      <td>9069</td>\n",
              "    </tr>\n",
              "    <tr>\n",
              "      <th>size</th>\n",
              "      <td>37784</td>\n",
              "      <td>37784</td>\n",
              "      <td>37784</td>\n",
              "      <td>37784</td>\n",
              "      <td>37784</td>\n",
              "      <td>37784</td>\n",
              "      <td>37784</td>\n",
              "      <td>37784</td>\n",
              "      <td>37784</td>\n",
              "    </tr>\n",
              "    <tr>\n",
              "      <th>nunique</th>\n",
              "      <td>101</td>\n",
              "      <td>836</td>\n",
              "      <td>82</td>\n",
              "      <td>335</td>\n",
              "      <td>2</td>\n",
              "      <td>24</td>\n",
              "      <td>7663</td>\n",
              "      <td>3</td>\n",
              "      <td>1893</td>\n",
              "    </tr>\n",
              "  </tbody>\n",
              "</table>\n",
              "</div>"
            ],
            "text/plain": [
              "         RoundID  MatchID  Team Initials  ...  Player Name  Position  Event\n",
              "count      37784    37784          37784  ...        37784      4143   9069\n",
              "size       37784    37784          37784  ...        37784     37784  37784\n",
              "nunique      101      836             82  ...         7663         3   1893\n",
              "\n",
              "[3 rows x 9 columns]"
            ]
          },
          "metadata": {
            "tags": []
          },
          "execution_count": 53
        }
      ]
    },
    {
      "cell_type": "code",
      "metadata": {
        "id": "E-v2BtEpqiaG",
        "colab_type": "code",
        "outputId": "5b36dd46-d43d-4eee-fec9-c52410c56715",
        "colab": {
          "base_uri": "https://localhost:8080/",
          "height": 34
        }
      },
      "source": [
        "\n",
        "list(df['Line-up'].unique())"
      ],
      "execution_count": 54,
      "outputs": [
        {
          "output_type": "execute_result",
          "data": {
            "text/plain": [
              "[1, 0]"
            ]
          },
          "metadata": {
            "tags": []
          },
          "execution_count": 54
        }
      ]
    },
    {
      "cell_type": "code",
      "metadata": {
        "id": "c2kFvIVtm6lo",
        "colab_type": "code",
        "colab": {}
      },
      "source": [
        "\"\"\"\n",
        "1 S\n",
        "0 N\n",
        "\"\"\"\n",
        "df['Line-up'].replace({1:\"S\", \n",
        "                       0:\"N\"}, inplace=True)"
      ],
      "execution_count": 0,
      "outputs": []
    },
    {
      "cell_type": "code",
      "metadata": {
        "id": "3aa8o9P3oh9g",
        "colab_type": "code",
        "outputId": "64062ce9-661b-410d-c2d1-a0e09f30a947",
        "colab": {
          "base_uri": "https://localhost:8080/",
          "height": 34
        }
      },
      "source": [
        "list(df['Line-up'].unique())"
      ],
      "execution_count": 60,
      "outputs": [
        {
          "output_type": "execute_result",
          "data": {
            "text/plain": [
              "['S', 'N']"
            ]
          },
          "metadata": {
            "tags": []
          },
          "execution_count": 60
        }
      ]
    },
    {
      "cell_type": "code",
      "metadata": {
        "id": "L2psTRT8rdhc",
        "colab_type": "code",
        "outputId": "b7268aab-71f0-4e7f-e251-909bc34a7e3f",
        "colab": {
          "base_uri": "https://localhost:8080/",
          "height": 34
        }
      },
      "source": [
        "keys = list(df['Line-up'].unique())\n",
        "vals = range(-1,2)\n",
        "act = dict(zip(keys, vals))\n",
        "act"
      ],
      "execution_count": 64,
      "outputs": [
        {
          "output_type": "execute_result",
          "data": {
            "text/plain": [
              "{'N': 0, 'S': -1}"
            ]
          },
          "metadata": {
            "tags": []
          },
          "execution_count": 64
        }
      ]
    },
    {
      "cell_type": "code",
      "metadata": {
        "id": "AaN4GDIDrXum",
        "colab_type": "code",
        "outputId": "acc91674-a23c-4f86-836a-3905560ae6c1",
        "colab": {
          "base_uri": "https://localhost:8080/",
          "height": 272
        }
      },
      "source": [
        "\n",
        "df_copy['Line-up-2'] = df['Line-up'].map(act)\n",
        "df_copy.head()"
      ],
      "execution_count": 65,
      "outputs": [
        {
          "output_type": "execute_result",
          "data": {
            "text/html": [
              "<div>\n",
              "<style scoped>\n",
              "    .dataframe tbody tr th:only-of-type {\n",
              "        vertical-align: middle;\n",
              "    }\n",
              "\n",
              "    .dataframe tbody tr th {\n",
              "        vertical-align: top;\n",
              "    }\n",
              "\n",
              "    .dataframe thead th {\n",
              "        text-align: right;\n",
              "    }\n",
              "</style>\n",
              "<table border=\"1\" class=\"dataframe\">\n",
              "  <thead>\n",
              "    <tr style=\"text-align: right;\">\n",
              "      <th></th>\n",
              "      <th>RoundID</th>\n",
              "      <th>MatchID</th>\n",
              "      <th>Team Initials</th>\n",
              "      <th>Coach Name</th>\n",
              "      <th>Line-up</th>\n",
              "      <th>Shirt Number</th>\n",
              "      <th>Player Name</th>\n",
              "      <th>Position</th>\n",
              "      <th>Event</th>\n",
              "      <th>Line-up-2</th>\n",
              "    </tr>\n",
              "  </thead>\n",
              "  <tbody>\n",
              "    <tr>\n",
              "      <th>0</th>\n",
              "      <td>201</td>\n",
              "      <td>1096</td>\n",
              "      <td>FRA</td>\n",
              "      <td>CAUDRON Raoul (FRA)</td>\n",
              "      <td>1</td>\n",
              "      <td>0</td>\n",
              "      <td>Alex THEPOT</td>\n",
              "      <td>GK</td>\n",
              "      <td>NaN</td>\n",
              "      <td>-1</td>\n",
              "    </tr>\n",
              "    <tr>\n",
              "      <th>1</th>\n",
              "      <td>201</td>\n",
              "      <td>1096</td>\n",
              "      <td>MEX</td>\n",
              "      <td>LUQUE Juan (MEX)</td>\n",
              "      <td>1</td>\n",
              "      <td>0</td>\n",
              "      <td>Oscar BONFIGLIO</td>\n",
              "      <td>GK</td>\n",
              "      <td>NaN</td>\n",
              "      <td>-1</td>\n",
              "    </tr>\n",
              "    <tr>\n",
              "      <th>2</th>\n",
              "      <td>201</td>\n",
              "      <td>1096</td>\n",
              "      <td>FRA</td>\n",
              "      <td>CAUDRON Raoul (FRA)</td>\n",
              "      <td>1</td>\n",
              "      <td>0</td>\n",
              "      <td>Marcel LANGILLER</td>\n",
              "      <td>NaN</td>\n",
              "      <td>G40'</td>\n",
              "      <td>-1</td>\n",
              "    </tr>\n",
              "    <tr>\n",
              "      <th>3</th>\n",
              "      <td>201</td>\n",
              "      <td>1096</td>\n",
              "      <td>MEX</td>\n",
              "      <td>LUQUE Juan (MEX)</td>\n",
              "      <td>1</td>\n",
              "      <td>0</td>\n",
              "      <td>Juan CARRENO</td>\n",
              "      <td>NaN</td>\n",
              "      <td>G70'</td>\n",
              "      <td>-1</td>\n",
              "    </tr>\n",
              "    <tr>\n",
              "      <th>4</th>\n",
              "      <td>201</td>\n",
              "      <td>1096</td>\n",
              "      <td>FRA</td>\n",
              "      <td>CAUDRON Raoul (FRA)</td>\n",
              "      <td>1</td>\n",
              "      <td>0</td>\n",
              "      <td>Ernest LIBERATI</td>\n",
              "      <td>NaN</td>\n",
              "      <td>NaN</td>\n",
              "      <td>-1</td>\n",
              "    </tr>\n",
              "  </tbody>\n",
              "</table>\n",
              "</div>"
            ],
            "text/plain": [
              "   RoundID  MatchID Team Initials  ... Position  Event  Line-up-2\n",
              "0      201     1096           FRA  ...       GK    NaN         -1\n",
              "1      201     1096           MEX  ...       GK    NaN         -1\n",
              "2      201     1096           FRA  ...      NaN   G40'         -1\n",
              "3      201     1096           MEX  ...      NaN   G70'         -1\n",
              "4      201     1096           FRA  ...      NaN    NaN         -1\n",
              "\n",
              "[5 rows x 10 columns]"
            ]
          },
          "metadata": {
            "tags": []
          },
          "execution_count": 65
        }
      ]
    },
    {
      "cell_type": "code",
      "metadata": {
        "id": "bz9P_SbvrtIq",
        "colab_type": "code",
        "outputId": "69b68e80-3ede-4bd5-a42b-7c113fbc2267",
        "colab": {
          "base_uri": "https://localhost:8080/",
          "height": 34
        }
      },
      "source": [
        "list(df_copy['Line-up-2'].unique())"
      ],
      "execution_count": 66,
      "outputs": [
        {
          "output_type": "execute_result",
          "data": {
            "text/plain": [
              "[-1, 0]"
            ]
          },
          "metadata": {
            "tags": []
          },
          "execution_count": 66
        }
      ]
    },
    {
      "cell_type": "code",
      "metadata": {
        "id": "kZYFMB5NrxFo",
        "colab_type": "code",
        "outputId": "9aa5ec0e-e9c5-489d-bdcf-a787c98f32f7",
        "colab": {
          "base_uri": "https://localhost:8080/",
          "height": 34
        }
      },
      "source": [
        "df_copy['Shirt Number'].mean()"
      ],
      "execution_count": 68,
      "outputs": [
        {
          "output_type": "execute_result",
          "data": {
            "text/plain": [
              "10.726021596442939"
            ]
          },
          "metadata": {
            "tags": []
          },
          "execution_count": 68
        }
      ]
    },
    {
      "cell_type": "code",
      "metadata": {
        "id": "7xsQlf_Br1RW",
        "colab_type": "code",
        "outputId": "08cc53b3-df43-4e87-bcb9-0c5df0137040",
        "colab": {
          "base_uri": "https://localhost:8080/",
          "height": 221
        }
      },
      "source": [
        "df_copy['Shirt Number'][df_copy['Line-up'] == 1]"
      ],
      "execution_count": 69,
      "outputs": [
        {
          "output_type": "execute_result",
          "data": {
            "text/plain": [
              "0         0\n",
              "1         0\n",
              "2         0\n",
              "3         0\n",
              "4         0\n",
              "         ..\n",
              "37755    15\n",
              "37756    20\n",
              "37757    16\n",
              "37758    23\n",
              "37759    22\n",
              "Name: Shirt Number, Length: 18744, dtype: int64"
            ]
          },
          "metadata": {
            "tags": []
          },
          "execution_count": 69
        }
      ]
    },
    {
      "cell_type": "code",
      "metadata": {
        "id": "eW8m16Mdr4W9",
        "colab_type": "code",
        "outputId": "d53d9310-049e-4481-ea4f-823255a14684",
        "colab": {
          "base_uri": "https://localhost:8080/",
          "height": 34
        }
      },
      "source": [
        "\n",
        "df_copy['Shirt Number'][df_copy['Line-up-2'] == -1].mean()"
      ],
      "execution_count": 70,
      "outputs": [
        {
          "output_type": "execute_result",
          "data": {
            "text/plain": [
              "8.696809645753307"
            ]
          },
          "metadata": {
            "tags": []
          },
          "execution_count": 70
        }
      ]
    },
    {
      "cell_type": "code",
      "metadata": {
        "id": "serrM7LgsE1Z",
        "colab_type": "code",
        "outputId": "07015879-c27c-466e-f214-b17102aca8cb",
        "colab": {
          "base_uri": "https://localhost:8080/",
          "height": 450
        }
      },
      "source": [
        "df_copy.groupby([\"Line-up-2\", \"Team Initials\", \"Coach Name\", \"Position\"]).count()"
      ],
      "execution_count": 71,
      "outputs": [
        {
          "output_type": "execute_result",
          "data": {
            "text/html": [
              "<div>\n",
              "<style scoped>\n",
              "    .dataframe tbody tr th:only-of-type {\n",
              "        vertical-align: middle;\n",
              "    }\n",
              "\n",
              "    .dataframe tbody tr th {\n",
              "        vertical-align: top;\n",
              "    }\n",
              "\n",
              "    .dataframe thead th {\n",
              "        text-align: right;\n",
              "    }\n",
              "</style>\n",
              "<table border=\"1\" class=\"dataframe\">\n",
              "  <thead>\n",
              "    <tr style=\"text-align: right;\">\n",
              "      <th></th>\n",
              "      <th></th>\n",
              "      <th></th>\n",
              "      <th></th>\n",
              "      <th>RoundID</th>\n",
              "      <th>MatchID</th>\n",
              "      <th>Line-up</th>\n",
              "      <th>Shirt Number</th>\n",
              "      <th>Player Name</th>\n",
              "      <th>Event</th>\n",
              "    </tr>\n",
              "    <tr>\n",
              "      <th>Line-up-2</th>\n",
              "      <th>Team Initials</th>\n",
              "      <th>Coach Name</th>\n",
              "      <th>Position</th>\n",
              "      <th></th>\n",
              "      <th></th>\n",
              "      <th></th>\n",
              "      <th></th>\n",
              "      <th></th>\n",
              "      <th></th>\n",
              "    </tr>\n",
              "  </thead>\n",
              "  <tbody>\n",
              "    <tr>\n",
              "      <th rowspan=\"5\" valign=\"top\">-1</th>\n",
              "      <th rowspan=\"5\" valign=\"top\">ALG</th>\n",
              "      <th rowspan=\"2\" valign=\"top\">HALILHODZIC Vahid (BIH)</th>\n",
              "      <th>C</th>\n",
              "      <td>5</td>\n",
              "      <td>5</td>\n",
              "      <td>5</td>\n",
              "      <td>5</td>\n",
              "      <td>5</td>\n",
              "      <td>3</td>\n",
              "    </tr>\n",
              "    <tr>\n",
              "      <th>GK</th>\n",
              "      <td>5</td>\n",
              "      <td>5</td>\n",
              "      <td>5</td>\n",
              "      <td>5</td>\n",
              "      <td>5</td>\n",
              "      <td>0</td>\n",
              "    </tr>\n",
              "    <tr>\n",
              "      <th rowspan=\"2\" valign=\"top\">MEKHLOUFI Rachid (ALG)</th>\n",
              "      <th>C</th>\n",
              "      <td>3</td>\n",
              "      <td>3</td>\n",
              "      <td>3</td>\n",
              "      <td>3</td>\n",
              "      <td>3</td>\n",
              "      <td>0</td>\n",
              "    </tr>\n",
              "    <tr>\n",
              "      <th>GK</th>\n",
              "      <td>3</td>\n",
              "      <td>3</td>\n",
              "      <td>3</td>\n",
              "      <td>3</td>\n",
              "      <td>3</td>\n",
              "      <td>0</td>\n",
              "    </tr>\n",
              "    <tr>\n",
              "      <th>SAADANE Rabah (ALG)</th>\n",
              "      <th>C</th>\n",
              "      <td>6</td>\n",
              "      <td>6</td>\n",
              "      <td>6</td>\n",
              "      <td>6</td>\n",
              "      <td>6</td>\n",
              "      <td>1</td>\n",
              "    </tr>\n",
              "    <tr>\n",
              "      <th>...</th>\n",
              "      <th>...</th>\n",
              "      <th>...</th>\n",
              "      <th>...</th>\n",
              "      <td>...</td>\n",
              "      <td>...</td>\n",
              "      <td>...</td>\n",
              "      <td>...</td>\n",
              "      <td>...</td>\n",
              "      <td>...</td>\n",
              "    </tr>\n",
              "    <tr>\n",
              "      <th rowspan=\"5\" valign=\"top\">0</th>\n",
              "      <th rowspan=\"3\" valign=\"top\">USA</th>\n",
              "      <th>KLINSMANN Juergen (GER)</th>\n",
              "      <th>GK</th>\n",
              "      <td>10</td>\n",
              "      <td>10</td>\n",
              "      <td>10</td>\n",
              "      <td>10</td>\n",
              "      <td>10</td>\n",
              "      <td>0</td>\n",
              "    </tr>\n",
              "    <tr>\n",
              "      <th>MILUTINOVIC Bora (YUG)</th>\n",
              "      <th>GK</th>\n",
              "      <td>2</td>\n",
              "      <td>2</td>\n",
              "      <td>2</td>\n",
              "      <td>2</td>\n",
              "      <td>2</td>\n",
              "      <td>0</td>\n",
              "    </tr>\n",
              "    <tr>\n",
              "      <th>SAMPSON Steve (USA)</th>\n",
              "      <th>GK</th>\n",
              "      <td>2</td>\n",
              "      <td>2</td>\n",
              "      <td>2</td>\n",
              "      <td>2</td>\n",
              "      <td>2</td>\n",
              "      <td>0</td>\n",
              "    </tr>\n",
              "    <tr>\n",
              "      <th>YUG</th>\n",
              "      <th>MILJANIC Miljan (SRB)</th>\n",
              "      <th>GK</th>\n",
              "      <td>2</td>\n",
              "      <td>2</td>\n",
              "      <td>2</td>\n",
              "      <td>2</td>\n",
              "      <td>2</td>\n",
              "      <td>0</td>\n",
              "    </tr>\n",
              "    <tr>\n",
              "      <th>ZAI</th>\n",
              "      <th>VIDINIC Blagoje (YUG)</th>\n",
              "      <th>GK</th>\n",
              "      <td>2</td>\n",
              "      <td>2</td>\n",
              "      <td>2</td>\n",
              "      <td>2</td>\n",
              "      <td>2</td>\n",
              "      <td>1</td>\n",
              "    </tr>\n",
              "  </tbody>\n",
              "</table>\n",
              "<p>895 rows × 6 columns</p>\n",
              "</div>"
            ],
            "text/plain": [
              "                                                          RoundID  ...  Event\n",
              "Line-up-2 Team Initials Coach Name              Position           ...       \n",
              "-1        ALG           HALILHODZIC Vahid (BIH) C               5  ...      3\n",
              "                                                GK              5  ...      0\n",
              "                        MEKHLOUFI Rachid (ALG)  C               3  ...      0\n",
              "                                                GK              3  ...      0\n",
              "                        SAADANE Rabah (ALG)     C               6  ...      1\n",
              "...                                                           ...  ...    ...\n",
              " 0        USA           KLINSMANN Juergen (GER) GK             10  ...      0\n",
              "                        MILUTINOVIC Bora (YUG)  GK              2  ...      0\n",
              "                        SAMPSON Steve (USA)     GK              2  ...      0\n",
              "          YUG           MILJANIC Miljan (SRB)   GK              2  ...      0\n",
              "          ZAI           VIDINIC Blagoje (YUG)   GK              2  ...      1\n",
              "\n",
              "[895 rows x 6 columns]"
            ]
          },
          "metadata": {
            "tags": []
          },
          "execution_count": 71
        }
      ]
    },
    {
      "cell_type": "code",
      "metadata": {
        "id": "sqx5jHdqshZS",
        "colab_type": "code",
        "outputId": "620417d4-f8c0-4f54-c133-a9a8c060512b",
        "colab": {
          "base_uri": "https://localhost:8080/",
          "height": 450
        }
      },
      "source": [
        "df_copy.groupby([\"Line-up-2\", \"Team Initials\"])[[\"Coach Name\", \"Position\"]].count()"
      ],
      "execution_count": 72,
      "outputs": [
        {
          "output_type": "execute_result",
          "data": {
            "text/html": [
              "<div>\n",
              "<style scoped>\n",
              "    .dataframe tbody tr th:only-of-type {\n",
              "        vertical-align: middle;\n",
              "    }\n",
              "\n",
              "    .dataframe tbody tr th {\n",
              "        vertical-align: top;\n",
              "    }\n",
              "\n",
              "    .dataframe thead th {\n",
              "        text-align: right;\n",
              "    }\n",
              "</style>\n",
              "<table border=\"1\" class=\"dataframe\">\n",
              "  <thead>\n",
              "    <tr style=\"text-align: right;\">\n",
              "      <th></th>\n",
              "      <th></th>\n",
              "      <th>Coach Name</th>\n",
              "      <th>Position</th>\n",
              "    </tr>\n",
              "    <tr>\n",
              "      <th>Line-up-2</th>\n",
              "      <th>Team Initials</th>\n",
              "      <th></th>\n",
              "      <th></th>\n",
              "    </tr>\n",
              "  </thead>\n",
              "  <tbody>\n",
              "    <tr>\n",
              "      <th rowspan=\"5\" valign=\"top\">-1</th>\n",
              "      <th>ALG</th>\n",
              "      <td>154</td>\n",
              "      <td>28</td>\n",
              "    </tr>\n",
              "    <tr>\n",
              "      <th>ANG</th>\n",
              "      <td>33</td>\n",
              "      <td>6</td>\n",
              "    </tr>\n",
              "    <tr>\n",
              "      <th>ARG</th>\n",
              "      <td>891</td>\n",
              "      <td>161</td>\n",
              "    </tr>\n",
              "    <tr>\n",
              "      <th>AUS</th>\n",
              "      <td>143</td>\n",
              "      <td>26</td>\n",
              "    </tr>\n",
              "    <tr>\n",
              "      <th>AUT</th>\n",
              "      <td>319</td>\n",
              "      <td>57</td>\n",
              "    </tr>\n",
              "    <tr>\n",
              "      <th>...</th>\n",
              "      <th>...</th>\n",
              "      <td>...</td>\n",
              "      <td>...</td>\n",
              "    </tr>\n",
              "    <tr>\n",
              "      <th rowspan=\"5\" valign=\"top\">0</th>\n",
              "      <th>URU</th>\n",
              "      <td>587</td>\n",
              "      <td>24</td>\n",
              "    </tr>\n",
              "    <tr>\n",
              "      <th>USA</th>\n",
              "      <td>355</td>\n",
              "      <td>30</td>\n",
              "    </tr>\n",
              "    <tr>\n",
              "      <th>WAL</th>\n",
              "      <td>55</td>\n",
              "      <td>0</td>\n",
              "    </tr>\n",
              "    <tr>\n",
              "      <th>YUG</th>\n",
              "      <td>392</td>\n",
              "      <td>2</td>\n",
              "    </tr>\n",
              "    <tr>\n",
              "      <th>ZAI</th>\n",
              "      <td>33</td>\n",
              "      <td>2</td>\n",
              "    </tr>\n",
              "  </tbody>\n",
              "</table>\n",
              "<p>164 rows × 2 columns</p>\n",
              "</div>"
            ],
            "text/plain": [
              "                         Coach Name  Position\n",
              "Line-up-2 Team Initials                      \n",
              "-1        ALG                   154        28\n",
              "          ANG                    33         6\n",
              "          ARG                   891       161\n",
              "          AUS                   143        26\n",
              "          AUT                   319        57\n",
              "...                             ...       ...\n",
              " 0        URU                   587        24\n",
              "          USA                   355        30\n",
              "          WAL                    55         0\n",
              "          YUG                   392         2\n",
              "          ZAI                    33         2\n",
              "\n",
              "[164 rows x 2 columns]"
            ]
          },
          "metadata": {
            "tags": []
          },
          "execution_count": 72
        }
      ]
    },
    {
      "cell_type": "code",
      "metadata": {
        "id": "ixESSEKss1ey",
        "colab_type": "code",
        "outputId": "0d77fd37-0735-469a-8cad-98fa837215c8",
        "colab": {
          "base_uri": "https://localhost:8080/",
          "height": 204
        }
      },
      "source": [
        "df_sample = df.sample(frac=0.05, random_state=1)\n",
        "df_sample.head()"
      ],
      "execution_count": 76,
      "outputs": [
        {
          "output_type": "execute_result",
          "data": {
            "text/html": [
              "<div>\n",
              "<style scoped>\n",
              "    .dataframe tbody tr th:only-of-type {\n",
              "        vertical-align: middle;\n",
              "    }\n",
              "\n",
              "    .dataframe tbody tr th {\n",
              "        vertical-align: top;\n",
              "    }\n",
              "\n",
              "    .dataframe thead th {\n",
              "        text-align: right;\n",
              "    }\n",
              "</style>\n",
              "<table border=\"1\" class=\"dataframe\">\n",
              "  <thead>\n",
              "    <tr style=\"text-align: right;\">\n",
              "      <th></th>\n",
              "      <th>RoundID</th>\n",
              "      <th>MatchID</th>\n",
              "      <th>Team Initials</th>\n",
              "      <th>Coach Name</th>\n",
              "      <th>Line-up</th>\n",
              "      <th>Shirt Number</th>\n",
              "      <th>Player Name</th>\n",
              "      <th>Position</th>\n",
              "      <th>Event</th>\n",
              "    </tr>\n",
              "  </thead>\n",
              "  <tbody>\n",
              "    <tr>\n",
              "      <th>7536</th>\n",
              "      <td>238</td>\n",
              "      <td>1653</td>\n",
              "      <td>FRA</td>\n",
              "      <td>GUERIN Henri (FRA)</td>\n",
              "      <td>N</td>\n",
              "      <td>8</td>\n",
              "      <td>Nestor COMBIN</td>\n",
              "      <td>NaN</td>\n",
              "      <td>NaN</td>\n",
              "    </tr>\n",
              "    <tr>\n",
              "      <th>25498</th>\n",
              "      <td>43950100</td>\n",
              "      <td>43950007</td>\n",
              "      <td>ARG</td>\n",
              "      <td>BIELSA Marcelo (ARG)</td>\n",
              "      <td>N</td>\n",
              "      <td>20</td>\n",
              "      <td>GALLARDO</td>\n",
              "      <td>NaN</td>\n",
              "      <td>NaN</td>\n",
              "    </tr>\n",
              "    <tr>\n",
              "      <th>11150</th>\n",
              "      <td>263</td>\n",
              "      <td>1948</td>\n",
              "      <td>NED</td>\n",
              "      <td>MICHELS Rinus (NED)</td>\n",
              "      <td>N</td>\n",
              "      <td>22</td>\n",
              "      <td>Harry VOS</td>\n",
              "      <td>NaN</td>\n",
              "      <td>NaN</td>\n",
              "    </tr>\n",
              "    <tr>\n",
              "      <th>14225</th>\n",
              "      <td>293</td>\n",
              "      <td>903</td>\n",
              "      <td>ESP</td>\n",
              "      <td>SANTAMARIA Jose (URU)</td>\n",
              "      <td>N</td>\n",
              "      <td>22</td>\n",
              "      <td>MIGUEL ANGEL</td>\n",
              "      <td>NaN</td>\n",
              "      <td>NaN</td>\n",
              "    </tr>\n",
              "    <tr>\n",
              "      <th>26566</th>\n",
              "      <td>43950100</td>\n",
              "      <td>43950027</td>\n",
              "      <td>MEX</td>\n",
              "      <td>Javier AGUIRRE (MEX)</td>\n",
              "      <td>S</td>\n",
              "      <td>5</td>\n",
              "      <td>M. VIDRIO</td>\n",
              "      <td>NaN</td>\n",
              "      <td>NaN</td>\n",
              "    </tr>\n",
              "  </tbody>\n",
              "</table>\n",
              "</div>"
            ],
            "text/plain": [
              "        RoundID   MatchID Team Initials  ...    Player Name Position  Event\n",
              "7536        238      1653           FRA  ...  Nestor COMBIN      NaN    NaN\n",
              "25498  43950100  43950007           ARG  ...       GALLARDO      NaN    NaN\n",
              "11150       263      1948           NED  ...      Harry VOS      NaN    NaN\n",
              "14225       293       903           ESP  ...   MIGUEL ANGEL      NaN    NaN\n",
              "26566  43950100  43950027           MEX  ...      M. VIDRIO      NaN    NaN\n",
              "\n",
              "[5 rows x 9 columns]"
            ]
          },
          "metadata": {
            "tags": []
          },
          "execution_count": 76
        }
      ]
    },
    {
      "cell_type": "code",
      "metadata": {
        "id": "FXWqtAMts4qN",
        "colab_type": "code",
        "outputId": "0a9c7743-ae84-40d3-f5ce-cecf74164e3e",
        "colab": {
          "base_uri": "https://localhost:8080/",
          "height": 481
        }
      },
      "source": [
        "df_sample.groupby([\"Coach Name\", \"Team Initials\"])[[\"MatchID\", \"Shirt Number\"]].agg([np.sum, np.mean,\n",
        "                                                              np.count_nonzero])"
      ],
      "execution_count": 79,
      "outputs": [
        {
          "output_type": "execute_result",
          "data": {
            "text/html": [
              "<div>\n",
              "<style scoped>\n",
              "    .dataframe tbody tr th:only-of-type {\n",
              "        vertical-align: middle;\n",
              "    }\n",
              "\n",
              "    .dataframe tbody tr th {\n",
              "        vertical-align: top;\n",
              "    }\n",
              "\n",
              "    .dataframe thead tr th {\n",
              "        text-align: left;\n",
              "    }\n",
              "\n",
              "    .dataframe thead tr:last-of-type th {\n",
              "        text-align: right;\n",
              "    }\n",
              "</style>\n",
              "<table border=\"1\" class=\"dataframe\">\n",
              "  <thead>\n",
              "    <tr>\n",
              "      <th></th>\n",
              "      <th></th>\n",
              "      <th colspan=\"3\" halign=\"left\">MatchID</th>\n",
              "      <th colspan=\"3\" halign=\"left\">Shirt Number</th>\n",
              "    </tr>\n",
              "    <tr>\n",
              "      <th></th>\n",
              "      <th></th>\n",
              "      <th>sum</th>\n",
              "      <th>mean</th>\n",
              "      <th>count_nonzero</th>\n",
              "      <th>sum</th>\n",
              "      <th>mean</th>\n",
              "      <th>count_nonzero</th>\n",
              "    </tr>\n",
              "    <tr>\n",
              "      <th>Coach Name</th>\n",
              "      <th>Team Initials</th>\n",
              "      <th></th>\n",
              "      <th></th>\n",
              "      <th></th>\n",
              "      <th></th>\n",
              "      <th></th>\n",
              "      <th></th>\n",
              "    </tr>\n",
              "  </thead>\n",
              "  <tbody>\n",
              "    <tr>\n",
              "      <th>ACOSTA Nelson (URU)</th>\n",
              "      <th>CHI</th>\n",
              "      <td>43681</td>\n",
              "      <td>8.736200e+03</td>\n",
              "      <td>5</td>\n",
              "      <td>61</td>\n",
              "      <td>12.200000</td>\n",
              "      <td>5</td>\n",
              "    </tr>\n",
              "    <tr>\n",
              "      <th>ADSHEAD John (NZL)</th>\n",
              "      <th>NZL</th>\n",
              "      <td>1843</td>\n",
              "      <td>9.215000e+02</td>\n",
              "      <td>2</td>\n",
              "      <td>15</td>\n",
              "      <td>7.500000</td>\n",
              "      <td>2</td>\n",
              "    </tr>\n",
              "    <tr>\n",
              "      <th>AL KARASHI Mohamed (KSA)</th>\n",
              "      <th>KSA</th>\n",
              "      <td>8764</td>\n",
              "      <td>8.764000e+03</td>\n",
              "      <td>1</td>\n",
              "      <td>11</td>\n",
              "      <td>11.000000</td>\n",
              "      <td>1</td>\n",
              "    </tr>\n",
              "    <tr>\n",
              "      <th>ALAMOS Luis (CHI)</th>\n",
              "      <th>CHI</th>\n",
              "      <td>25529</td>\n",
              "      <td>1.823500e+03</td>\n",
              "      <td>14</td>\n",
              "      <td>202</td>\n",
              "      <td>14.428571</td>\n",
              "      <td>14</td>\n",
              "    </tr>\n",
              "    <tr>\n",
              "      <th>ANDREOLI Franco (SUI)</th>\n",
              "      <th>SUI</th>\n",
              "      <td>4912</td>\n",
              "      <td>1.228000e+03</td>\n",
              "      <td>4</td>\n",
              "      <td>0</td>\n",
              "      <td>0.000000</td>\n",
              "      <td>0</td>\n",
              "    </tr>\n",
              "    <tr>\n",
              "      <th>...</th>\n",
              "      <th>...</th>\n",
              "      <td>...</td>\n",
              "      <td>...</td>\n",
              "      <td>...</td>\n",
              "      <td>...</td>\n",
              "      <td>...</td>\n",
              "      <td>...</td>\n",
              "    </tr>\n",
              "    <tr>\n",
              "      <th>WINTERBOTTOM Walter (ENG)</th>\n",
              "      <th>ENG</th>\n",
              "      <td>25075</td>\n",
              "      <td>1.319737e+03</td>\n",
              "      <td>19</td>\n",
              "      <td>144</td>\n",
              "      <td>7.578947</td>\n",
              "      <td>12</td>\n",
              "    </tr>\n",
              "    <tr>\n",
              "      <th>Xavier AZKARGORTA URIARTE (ESP)</th>\n",
              "      <th>BOL</th>\n",
              "      <td>18378</td>\n",
              "      <td>3.063000e+03</td>\n",
              "      <td>6</td>\n",
              "      <td>85</td>\n",
              "      <td>14.166667</td>\n",
              "      <td>6</td>\n",
              "    </tr>\n",
              "    <tr>\n",
              "      <th>ZACCHERONI Alberto (ITA)</th>\n",
              "      <th>JPN</th>\n",
              "      <td>1801118836</td>\n",
              "      <td>3.001865e+08</td>\n",
              "      <td>6</td>\n",
              "      <td>84</td>\n",
              "      <td>14.000000</td>\n",
              "      <td>6</td>\n",
              "    </tr>\n",
              "    <tr>\n",
              "      <th>ZAGALLO Mario (BRA)</th>\n",
              "      <th>BRA</th>\n",
              "      <td>85615</td>\n",
              "      <td>3.424600e+03</td>\n",
              "      <td>25</td>\n",
              "      <td>254</td>\n",
              "      <td>10.160000</td>\n",
              "      <td>25</td>\n",
              "    </tr>\n",
              "    <tr>\n",
              "      <th>ZICO (BRA)</th>\n",
              "      <th>JPN</th>\n",
              "      <td>292230083</td>\n",
              "      <td>9.741003e+07</td>\n",
              "      <td>3</td>\n",
              "      <td>31</td>\n",
              "      <td>10.333333</td>\n",
              "      <td>3</td>\n",
              "    </tr>\n",
              "  </tbody>\n",
              "</table>\n",
              "<p>348 rows × 6 columns</p>\n",
              "</div>"
            ],
            "text/plain": [
              "                                                  MatchID  ...  Shirt Number\n",
              "                                                      sum  ... count_nonzero\n",
              "Coach Name                      Team Initials              ...              \n",
              "ACOSTA Nelson (URU)             CHI                 43681  ...             5\n",
              "ADSHEAD John (NZL)              NZL                  1843  ...             2\n",
              "AL KARASHI Mohamed (KSA)        KSA                  8764  ...             1\n",
              "ALAMOS Luis (CHI)               CHI                 25529  ...            14\n",
              "ANDREOLI Franco (SUI)           SUI                  4912  ...             0\n",
              "...                                                   ...  ...           ...\n",
              "WINTERBOTTOM Walter (ENG)       ENG                 25075  ...            12\n",
              "Xavier AZKARGORTA URIARTE (ESP) BOL                 18378  ...             6\n",
              "ZACCHERONI Alberto (ITA)        JPN            1801118836  ...             6\n",
              "ZAGALLO Mario (BRA)             BRA                 85615  ...            25\n",
              "ZICO (BRA)                      JPN             292230083  ...             3\n",
              "\n",
              "[348 rows x 6 columns]"
            ]
          },
          "metadata": {
            "tags": []
          },
          "execution_count": 79
        }
      ]
    },
    {
      "cell_type": "code",
      "metadata": {
        "id": "7HTWNgSztE3-",
        "colab_type": "code",
        "outputId": "f175bbd2-d621-41e6-9c72-c3a4625b4ad9",
        "colab": {
          "base_uri": "https://localhost:8080/",
          "height": 450
        }
      },
      "source": [
        "df_sample.groupby([\"Coach Name\", \"Team Initials\"]).agg({'RoundID':np.mean,'Line-up':np.max})"
      ],
      "execution_count": 81,
      "outputs": [
        {
          "output_type": "execute_result",
          "data": {
            "text/html": [
              "<div>\n",
              "<style scoped>\n",
              "    .dataframe tbody tr th:only-of-type {\n",
              "        vertical-align: middle;\n",
              "    }\n",
              "\n",
              "    .dataframe tbody tr th {\n",
              "        vertical-align: top;\n",
              "    }\n",
              "\n",
              "    .dataframe thead th {\n",
              "        text-align: right;\n",
              "    }\n",
              "</style>\n",
              "<table border=\"1\" class=\"dataframe\">\n",
              "  <thead>\n",
              "    <tr style=\"text-align: right;\">\n",
              "      <th></th>\n",
              "      <th></th>\n",
              "      <th>RoundID</th>\n",
              "      <th>Line-up</th>\n",
              "    </tr>\n",
              "    <tr>\n",
              "      <th>Coach Name</th>\n",
              "      <th>Team Initials</th>\n",
              "      <th></th>\n",
              "      <th></th>\n",
              "    </tr>\n",
              "  </thead>\n",
              "  <tbody>\n",
              "    <tr>\n",
              "      <th>ACOSTA Nelson (URU)</th>\n",
              "      <th>CHI</th>\n",
              "      <td>1.014000e+03</td>\n",
              "      <td>S</td>\n",
              "    </tr>\n",
              "    <tr>\n",
              "      <th>ADSHEAD John (NZL)</th>\n",
              "      <th>NZL</th>\n",
              "      <td>2.930000e+02</td>\n",
              "      <td>S</td>\n",
              "    </tr>\n",
              "    <tr>\n",
              "      <th>AL KARASHI Mohamed (KSA)</th>\n",
              "      <th>KSA</th>\n",
              "      <td>1.014000e+03</td>\n",
              "      <td>S</td>\n",
              "    </tr>\n",
              "    <tr>\n",
              "      <th>ALAMOS Luis (CHI)</th>\n",
              "      <th>CHI</th>\n",
              "      <td>2.517143e+02</td>\n",
              "      <td>S</td>\n",
              "    </tr>\n",
              "    <tr>\n",
              "      <th>ANDREOLI Franco (SUI)</th>\n",
              "      <th>SUI</th>\n",
              "      <td>2.080000e+02</td>\n",
              "      <td>S</td>\n",
              "    </tr>\n",
              "    <tr>\n",
              "      <th>...</th>\n",
              "      <th>...</th>\n",
              "      <td>...</td>\n",
              "      <td>...</td>\n",
              "    </tr>\n",
              "    <tr>\n",
              "      <th>WINTERBOTTOM Walter (ENG)</th>\n",
              "      <th>ENG</th>\n",
              "      <td>2.182105e+02</td>\n",
              "      <td>S</td>\n",
              "    </tr>\n",
              "    <tr>\n",
              "      <th>Xavier AZKARGORTA URIARTE (ESP)</th>\n",
              "      <th>BOL</th>\n",
              "      <td>3.370000e+02</td>\n",
              "      <td>S</td>\n",
              "    </tr>\n",
              "    <tr>\n",
              "      <th>ZACCHERONI Alberto (ITA)</th>\n",
              "      <th>JPN</th>\n",
              "      <td>2.559310e+05</td>\n",
              "      <td>S</td>\n",
              "    </tr>\n",
              "    <tr>\n",
              "      <th>ZAGALLO Mario (BRA)</th>\n",
              "      <th>BRA</th>\n",
              "      <td>4.955600e+02</td>\n",
              "      <td>S</td>\n",
              "    </tr>\n",
              "    <tr>\n",
              "      <th>ZICO (BRA)</th>\n",
              "      <th>JPN</th>\n",
              "      <td>9.741010e+07</td>\n",
              "      <td>N</td>\n",
              "    </tr>\n",
              "  </tbody>\n",
              "</table>\n",
              "<p>348 rows × 2 columns</p>\n",
              "</div>"
            ],
            "text/plain": [
              "                                                    RoundID Line-up\n",
              "Coach Name                      Team Initials                      \n",
              "ACOSTA Nelson (URU)             CHI            1.014000e+03       S\n",
              "ADSHEAD John (NZL)              NZL            2.930000e+02       S\n",
              "AL KARASHI Mohamed (KSA)        KSA            1.014000e+03       S\n",
              "ALAMOS Luis (CHI)               CHI            2.517143e+02       S\n",
              "ANDREOLI Franco (SUI)           SUI            2.080000e+02       S\n",
              "...                                                     ...     ...\n",
              "WINTERBOTTOM Walter (ENG)       ENG            2.182105e+02       S\n",
              "Xavier AZKARGORTA URIARTE (ESP) BOL            3.370000e+02       S\n",
              "ZACCHERONI Alberto (ITA)        JPN            2.559310e+05       S\n",
              "ZAGALLO Mario (BRA)             BRA            4.955600e+02       S\n",
              "ZICO (BRA)                      JPN            9.741010e+07       N\n",
              "\n",
              "[348 rows x 2 columns]"
            ]
          },
          "metadata": {
            "tags": []
          },
          "execution_count": 81
        }
      ]
    },
    {
      "cell_type": "code",
      "metadata": {
        "id": "he0Anj-JtJub",
        "colab_type": "code",
        "outputId": "bd5eb7f9-eab7-4087-b18f-0d772cb2952e",
        "colab": {
          "base_uri": "https://localhost:8080/",
          "height": 266
        }
      },
      "source": [
        "\n",
        "%matplotlib inline\n",
        "import matplotlib.pyplot as plt\n",
        "plt.style.use('seaborn-white')\n",
        "\n",
        "ax1 = plt.axes()  # standard axes\n",
        "ax2 = plt.axes([0.65, 0.65, 0.2, 0.2])"
      ],
      "execution_count": 83,
      "outputs": [
        {
          "output_type": "display_data",
          "data": {
            "image/png": "[encoded data removed]",
            "text/plain": [
              "<Figure size 432x288 with 2 Axes>"
            ]
          },
          "metadata": {
            "tags": []
          }
        }
      ]
    },
    {
      "cell_type": "code",
      "metadata": {
        "id": "fkedRspLtb1k",
        "colab_type": "code",
        "outputId": "a6a4a809-81e7-4b3d-a640-bca1edb4fd9c",
        "colab": {
          "base_uri": "https://localhost:8080/",
          "height": 292
        }
      },
      "source": [
        "fig = plt.figure()\n",
        "ax1 = fig.add_axes([0.1, 0.5, 0.8, 0.4],\n",
        "                   xticklabels=[], ylim=(-1.2, 1.2))\n",
        "ax2 = fig.add_axes([0.1, 0.1, 0.8, 0.4],\n",
        "                   ylim=(-1.2, 1.2))\n",
        "\n",
        "x = np.linspace(0, 10)\n",
        "ax1.plot(np.sin(x))\n",
        "ax2.plot(np.cos(x))"
      ],
      "execution_count": 84,
      "outputs": [
        {
          "output_type": "execute_result",
          "data": {
            "text/plain": [
              "[<matplotlib.lines.Line2D at 0x7fbd5c01ab38>]"
            ]
          },
          "metadata": {
            "tags": []
          },
          "execution_count": 84
        },
        {
          "output_type": "display_data",
          "data": {
            "image/png": "[encoded data removed]",
            "text/plain": [
              "<Figure size 432x288 with 2 Axes>"
            ]
          },
          "metadata": {
            "tags": []
          }
        }
      ]
    },
    {
      "cell_type": "code",
      "metadata": {
        "id": "LKU_7iqKth5H",
        "colab_type": "code",
        "outputId": "b5aaa39f-5e72-4f9c-fba4-66471adaf60c",
        "colab": {
          "base_uri": "https://localhost:8080/",
          "height": 266
        }
      },
      "source": [
        "for i in range(1, 7):\n",
        "    plt.subplot(2, 3, i)\n",
        "    plt.text(0.5, 0.5, str((2, 3, i)),\n",
        "             fontsize=18, ha='center')"
      ],
      "execution_count": 85,
      "outputs": [
        {
          "output_type": "display_data",
          "data": {
            "image/png": "[encoded data removed]",
            "text/plain": [
              "<Figure size 432x288 with 6 Axes>"
            ]
          },
          "metadata": {
            "tags": []
          }
        }
      ]
    },
    {
      "cell_type": "code",
      "metadata": {
        "id": "bS11UjXKtquN",
        "colab_type": "code",
        "outputId": "aeddac55-61fc-4be6-f0a3-2948dead801b",
        "colab": {
          "base_uri": "https://localhost:8080/",
          "height": 266
        }
      },
      "source": [
        "fig = plt.figure()\n",
        "fig.subplots_adjust(hspace=0.4, wspace=0.4)\n",
        "for i in range(1, 7):\n",
        "    ax = fig.add_subplot(2, 3, i)\n",
        "    ax.text(0.5, 0.5, str((2, 3, i)),\n",
        "           fontsize=18, ha='center')"
      ],
      "execution_count": 86,
      "outputs": [
        {
          "output_type": "display_data",
          "data": {
            "image/png": "[encoded data removed]",
            "text/plain": [
              "<Figure size 432x288 with 6 Axes>"
            ]
          },
          "metadata": {
            "tags": []
          }
        }
      ]
    },
    {
      "cell_type": "code",
      "metadata": {
        "id": "yMZW1FHAtuyt",
        "colab_type": "code",
        "outputId": "abf83d75-dc45-4fc6-c852-055f52d85f6c",
        "colab": {
          "base_uri": "https://localhost:8080/",
          "height": 266
        }
      },
      "source": [
        "\n",
        "fig, ax = plt.subplots(2, 3, sharex='col', sharey='row')"
      ],
      "execution_count": 87,
      "outputs": [
        {
          "output_type": "display_data",
          "data": {
            "image/png": "[encoded data removed]",
            "text/plain": [
              "<Figure size 432x288 with 6 Axes>"
            ]
          },
          "metadata": {
            "tags": []
          }
        }
      ]
    },
    {
      "cell_type": "code",
      "metadata": {
        "id": "-jwRzmOLtzmS",
        "colab_type": "code",
        "outputId": "6d83f8c0-8e5b-4550-9161-44f6e93b4521",
        "colab": {
          "base_uri": "https://localhost:8080/",
          "height": 266
        }
      },
      "source": [
        "for i in range(2):\n",
        "    for j in range(3):\n",
        "        ax[i, j].text(0.5, 0.5, str((i, j)),\n",
        "                      fontsize=18, ha='center')\n",
        "fig"
      ],
      "execution_count": 88,
      "outputs": [
        {
          "output_type": "execute_result",
          "data": {
            "image/png": "[encoded data removed]",
            "text/plain": [
              "<Figure size 432x288 with 6 Axes>"
            ]
          },
          "metadata": {
            "tags": []
          },
          "execution_count": 88
        }
      ]
    },
    {
      "cell_type": "code",
      "metadata": {
        "id": "JwlLS43zt1Nw",
        "colab_type": "code",
        "outputId": "40cff182-c344-41dc-af03-118ba0bade1e",
        "colab": {
          "base_uri": "https://localhost:8080/",
          "height": 371
        }
      },
      "source": [
        "mean = [0, 0]\n",
        "cov = [[1, 1], [1, 2]]\n",
        "x, y = np.random.multivariate_normal(mean, cov, 3000).T\n",
        "\n",
        "# Set up the axes with gridspec\n",
        "fig = plt.figure(figsize=(6, 6))\n",
        "grid = plt.GridSpec(4, 4, hspace=0.2, wspace=0.2)\n",
        "main_ax = fig.add_subplot(grid[:-1, 1:])\n",
        "y_hist = fig.add_subplot(grid[:-1, 0], xticklabels=[], sharey=main_ax)\n",
        "x_hist = fig.add_subplot(grid[-1, 1:], yticklabels=[], sharex=main_ax)\n",
        "\n",
        "# scatter points on the main axes\n",
        "main_ax.plot(x, y, 'ok', markersize=3, alpha=0.2)\n",
        "\n",
        "# histogram on the attached axes\n",
        "x_hist.hist(x, 40, histtype='stepfilled',\n",
        "            orientation='vertical', color='gray')\n",
        "x_hist.invert_yaxis()\n",
        "\n",
        "y_hist.hist(y, 40, histtype='stepfilled',\n",
        "            orientation='horizontal', color='gray')\n",
        "y_hist.invert_xaxis()"
      ],
      "execution_count": 89,
      "outputs": [
        {
          "output_type": "display_data",
          "data": {
            "image/png": "[encoded data removed]",
            "text/plain": [
              "<Figure size 432x432 with 3 Axes>"
            ]
          },
          "metadata": {
            "tags": []
          }
        }
      ]
    },
    {
      "cell_type": "code",
      "metadata": {
        "id": "FbXUCh4Kt5Q6",
        "colab_type": "code",
        "outputId": "c0232c1e-82da-468e-923d-7e89a382c88d",
        "colab": {
          "base_uri": "https://localhost:8080/",
          "height": 304
        }
      },
      "source": [
        "df_sample['MMatchIDa'] = df_sample['MatchID'].astype('int64')\n",
        "\n",
        "df_sample.plot(kind='scatter',x='MatchID',y='RoundID')"
      ],
      "execution_count": 95,
      "outputs": [
        {
          "output_type": "execute_result",
          "data": {
            "text/plain": [
              "<matplotlib.axes._subplots.AxesSubplot at 0x7fbd5c597710>"
            ]
          },
          "metadata": {
            "tags": []
          },
          "execution_count": 95
        },
        {
          "output_type": "display_data",
          "data": {
            "image/png": "[encoded data removed]",
            "text/plain": [
              "<Figure size 432x288 with 1 Axes>"
            ]
          },
          "metadata": {
            "tags": []
          }
        }
      ]
    },
    {
      "cell_type": "code",
      "metadata": {
        "id": "WW-YGzfwuLu7",
        "colab_type": "code",
        "outputId": "2c6748dd-c70d-495a-e5dc-b4cbe0b918ac",
        "colab": {
          "base_uri": "https://localhost:8080/",
          "height": 308
        }
      },
      "source": [
        "\n",
        "plt.hist(df_sample['RoundID'])\n",
        "plt.xlabel('RoundID')\n",
        "plt.ylabel('Frequency')\n",
        "plt.title('Frequency of tipoact')"
      ],
      "execution_count": 96,
      "outputs": [
        {
          "output_type": "execute_result",
          "data": {
            "text/plain": [
              "Text(0.5, 1.0, 'Frequency of tipoact')"
            ]
          },
          "metadata": {
            "tags": []
          },
          "execution_count": 96
        },
        {
          "output_type": "display_data",
          "data": {
            "image/png": "[encoded data removed]",
            "text/plain": [
              "<Figure size 432x288 with 1 Axes>"
            ]
          },
          "metadata": {
            "tags": []
          }
        }
      ]
    },
    {
      "cell_type": "code",
      "metadata": {
        "id": "vN6gNfPquQUl",
        "colab_type": "code",
        "outputId": "42cd81a3-f750-4a75-fe90-c87cba29d38c",
        "colab": {
          "base_uri": "https://localhost:8080/",
          "height": 308
        }
      },
      "source": [
        "plt.hist(df_sample['MatchID'])\n",
        "plt.xlabel('MatchID')\n",
        "plt.ylabel('Frequency')\n",
        "plt.title('Frequency of ventas')"
      ],
      "execution_count": 97,
      "outputs": [
        {
          "output_type": "execute_result",
          "data": {
            "text/plain": [
              "Text(0.5, 1.0, 'Frequency of ventas')"
            ]
          },
          "metadata": {
            "tags": []
          },
          "execution_count": 97
        },
        {
          "output_type": "display_data",
          "data": {
            "image/png": "[encoded data removed]",
            "text/plain": [
              "<Figure size 432x288 with 1 Axes>"
            ]
          },
          "metadata": {
            "tags": []
          }
        }
      ]
    },
    {
      "cell_type": "code",
      "metadata": {
        "id": "2wSRYv_xuULv",
        "colab_type": "code",
        "outputId": "49bb918e-6cd7-4ebf-8e69-c01b76d07a78",
        "colab": {
          "base_uri": "https://localhost:8080/",
          "height": 409
        }
      },
      "source": [
        "plt.boxplot(df_sample['MatchID'], showmeans=True, meanline=True)\n"
      ],
      "execution_count": 98,
      "outputs": [
        {
          "output_type": "execute_result",
          "data": {
            "text/plain": [
              "{'boxes': [<matplotlib.lines.Line2D at 0x7fbd5bed8be0>],\n",
              " 'caps': [<matplotlib.lines.Line2D at 0x7fbd5bed3128>,\n",
              "  <matplotlib.lines.Line2D at 0x7fbd5bed34a8>],\n",
              " 'fliers': [<matplotlib.lines.Line2D at 0x7fbd5bed3f28>],\n",
              " 'means': [<matplotlib.lines.Line2D at 0x7fbd5bed3ba8>],\n",
              " 'medians': [<matplotlib.lines.Line2D at 0x7fbd5bed3828>],\n",
              " 'whiskers': [<matplotlib.lines.Line2D at 0x7fbd5bed8748>,\n",
              "  <matplotlib.lines.Line2D at 0x7fbd5bed8978>]}"
            ]
          },
          "metadata": {
            "tags": []
          },
          "execution_count": 98
        },
        {
          "output_type": "display_data",
          "data": {
            "image/png": "[encoded data removed]",
            "text/plain": [
              "<Figure size 432x288 with 1 Axes>"
            ]
          },
          "metadata": {
            "tags": []
          }
        }
      ]
    }
  ]
}